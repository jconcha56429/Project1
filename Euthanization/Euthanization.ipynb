{
 "cells": [
  {
   "cell_type": "markdown",
   "metadata": {},
   "source": [
    "# "
   ]
  },
  {
   "cell_type": "code",
   "execution_count": 1,
   "metadata": {},
   "outputs": [],
   "source": [
    "# imports\n",
    "import pandas as pd\n",
    "import os\n",
    "import csv\n",
    "import numpy as np\n",
    "import matplotlib.pyplot as plt\n",
    "# import data\n",
    "data_import = 'clean_shelter_data.csv'\n",
    "shelter_data_df = pd.read_csv(data_import, dtype={'Council District': 'string', 'Intake Total': 'string', 'Outcome Subtype': 'string'}, encoding='utf-8')"
   ]
  },
  {
   "cell_type": "markdown",
   "metadata": {},
   "source": [
    "# Top 10 animal breeds euthanized"
   ]
  },
  {
   "cell_type": "code",
   "execution_count": 2,
   "metadata": {},
   "outputs": [
    {
     "data": {
      "text/html": [
       "<div>\n",
       "<style scoped>\n",
       "    .dataframe tbody tr th:only-of-type {\n",
       "        vertical-align: middle;\n",
       "    }\n",
       "\n",
       "    .dataframe tbody tr th {\n",
       "        vertical-align: top;\n",
       "    }\n",
       "\n",
       "    .dataframe thead th {\n",
       "        text-align: right;\n",
       "    }\n",
       "</style>\n",
       "<table border=\"1\" class=\"dataframe\">\n",
       "  <thead>\n",
       "    <tr style=\"text-align: right;\">\n",
       "      <th></th>\n",
       "      <th>count</th>\n",
       "    </tr>\n",
       "    <tr>\n",
       "      <th>Animal Breed</th>\n",
       "      <th></th>\n",
       "    </tr>\n",
       "  </thead>\n",
       "  <tbody>\n",
       "    <tr>\n",
       "      <th>PIT BULL</th>\n",
       "      <td>4094</td>\n",
       "    </tr>\n",
       "    <tr>\n",
       "      <th>DOMESTIC SH</th>\n",
       "      <td>3615</td>\n",
       "    </tr>\n",
       "    <tr>\n",
       "      <th>GERM SHEPHERD</th>\n",
       "      <td>1226</td>\n",
       "    </tr>\n",
       "    <tr>\n",
       "      <th>LABRADOR RETR</th>\n",
       "      <td>1098</td>\n",
       "    </tr>\n",
       "    <tr>\n",
       "      <th>OPOSSUM</th>\n",
       "      <td>652</td>\n",
       "    </tr>\n",
       "    <tr>\n",
       "      <th>RACCOON</th>\n",
       "      <td>645</td>\n",
       "    </tr>\n",
       "    <tr>\n",
       "      <th>CHIHUAHUA SH</th>\n",
       "      <td>467</td>\n",
       "    </tr>\n",
       "    <tr>\n",
       "      <th>DOMESTIC MH</th>\n",
       "      <td>270</td>\n",
       "    </tr>\n",
       "    <tr>\n",
       "      <th>ROTTWEILER</th>\n",
       "      <td>220</td>\n",
       "    </tr>\n",
       "    <tr>\n",
       "      <th>AM PIT BULL TER</th>\n",
       "      <td>169</td>\n",
       "    </tr>\n",
       "  </tbody>\n",
       "</table>\n",
       "</div>"
      ],
      "text/plain": [
       "                 count\n",
       "Animal Breed          \n",
       "PIT BULL          4094\n",
       "DOMESTIC SH       3615\n",
       "GERM SHEPHERD     1226\n",
       "LABRADOR RETR     1098\n",
       "OPOSSUM            652\n",
       "RACCOON            645\n",
       "CHIHUAHUA SH       467\n",
       "DOMESTIC MH        270\n",
       "ROTTWEILER         220\n",
       "AM PIT BULL TER    169"
      ]
     },
     "execution_count": 2,
     "metadata": {},
     "output_type": "execute_result"
    }
   ],
   "source": [
    "# find all euth with substype outcomes\n",
    "euth_df = shelter_data_df.loc[shelter_data_df['Outcome Type']=='EUTHANIZED']\n",
    "sub_euth = euth_df.dropna(subset = ['Outcome Subtype'])\n",
    "# find that Dallas only started using subtypes for euthanization in 2018\n",
    "euth_count = sub_euth['Year'].value_counts()\n",
    "sub_euth_type = sub_euth.groupby('Outcome Subtype')['Animal Type'].agg(['count'])\n",
    "sub_euth_breed = sub_euth.groupby('Animal Breed')['Outcome Subtype'].agg(['count'])\n",
    "sub_euth_breed = sub_euth_breed.sort_values(by = 'count', ascending=False).head(10)\n",
    "sub_euth_breed"
   ]
  },
  {
   "cell_type": "markdown",
   "metadata": {},
   "source": [
    "# top 5 cat breeds euthanized"
   ]
  },
  {
   "cell_type": "code",
   "execution_count": 3,
   "metadata": {},
   "outputs": [
    {
     "data": {
      "text/plain": [
       "DOMESTIC SH    8037\n",
       "DOMESTIC MH     555\n",
       "DOMESTIC LH     162\n",
       "AMER SH         117\n",
       "SIAMESE          98\n",
       "Name: Animal Breed, dtype: int64"
      ]
     },
     "execution_count": 3,
     "metadata": {},
     "output_type": "execute_result"
    }
   ],
   "source": [
    "cat_euth = euth_df.loc[euth_df['Animal Type'] == 'CAT']\n",
    "cat_euth['Animal Breed'].value_counts().head()"
   ]
  },
  {
   "cell_type": "markdown",
   "metadata": {},
   "source": [
    "# top 5 dog breeds euthanized"
   ]
  },
  {
   "cell_type": "code",
   "execution_count": 4,
   "metadata": {},
   "outputs": [
    {
     "data": {
      "text/plain": [
       "PIT BULL          8589\n",
       "LABRADOR RETR     2983\n",
       "GERM SHEPHERD     2946\n",
       "CHIHUAHUA SH      1420\n",
       "AMERICAN STAFF     719\n",
       "Name: Animal Breed, dtype: int64"
      ]
     },
     "execution_count": 4,
     "metadata": {},
     "output_type": "execute_result"
    }
   ],
   "source": [
    "dog_euth = euth_df.loc[euth_df['Animal Type'] == 'DOG']\n",
    "dog_euth['Animal Breed'].value_counts().head()"
   ]
  },
  {
   "cell_type": "markdown",
   "metadata": {},
   "source": [
    "# Euthanizations per year "
   ]
  },
  {
   "cell_type": "code",
   "execution_count": 5,
   "metadata": {},
   "outputs": [
    {
     "data": {
      "image/png": "[encoded data removed]",
      "text/plain": [
       "<Figure size 432x288 with 1 Axes>"
      ]
     },
     "metadata": {},
     "output_type": "display_data"
    }
   ],
   "source": [
    "data_2016 = shelter_data_df.loc[shelter_data_df['Year']=='FY2016']\n",
    "data_2017 = shelter_data_df.loc[shelter_data_df['Year']=='FY2017']\n",
    "data_2018 = shelter_data_df.loc[shelter_data_df['Year']=='FY2018']\n",
    "data_2019 = shelter_data_df.loc[shelter_data_df['Year']=='FY2019']\n",
    "data_2020 = shelter_data_df.loc[shelter_data_df['Year']=='FY2020']\n",
    "data_2021 = shelter_data_df.loc[shelter_data_df['Year']=='FY2021']\n",
    "def euth_v_adopt(year):\n",
    "  #   count = sort_values(year['Outcome Type'].value_counts()\n",
    "    both = year.groupby('Outcome Type')['Outcome Type'].agg(['count','unique'])\n",
    "    count = both['count']\n",
    "    names = both['unique']\n",
    "    # both.sort_values(by = 'count', ascending = False)\n",
    "    plt.pie(count, labels = names, autopct='%1.1f%%')\n",
    "year = data_2016\n",
    "euth_v_adopt(year)\n"
   ]
  },
  {
   "cell_type": "code",
   "execution_count": 6,
   "metadata": {},
   "outputs": [
    {
     "data": {
      "image/png": "[encoded data removed]",
      "text/plain": [
       "<Figure size 432x288 with 1 Axes>"
      ]
     },
     "metadata": {},
     "output_type": "display_data"
    }
   ],
   "source": [
    "test = data_2016.groupby('Outcome Type')['Outcome Type'].agg(['count'])\n",
    "names = sorted(data_2017['Outcome Type'].unique())\n",
    "test['Names'] = names\n",
    "test2 = test.loc[test['count'] < 1000]\n",
    "test4 = test.loc[test['count'] > 1000]\n",
    "test3 = test2['count'].sum()\n",
    "new_row = {'count':test3, 'Names': 'Other'}\n",
    "# test = test.append(new_row, ignore_index=True)\n",
    "#plt.pie(test['count'],labels = test['Names'])\n",
    "#plt.show()\n",
    "# plt.pie(test['count'],labels = r_names)\n",
    "test4 = test4.append(new_row,ignore_index=True)\n",
    "r_names = test4['Names']\n",
    "plt.pie(test4['count'], labels = r_names,autopct='%1.1f%%')\n",
    "plt.show()"
   ]
  },
  {
   "cell_type": "code",
   "execution_count": 44,
   "metadata": {},
   "outputs": [
    {
     "name": "stdout",
     "output_type": "stream",
     "text": [
      "   count              Index\n",
      "0   8358           ADOPTION\n",
      "1  10846         EUTHANIZED\n",
      "2   1301        LOST REPORT\n",
      "3   1899  RETURNED TO OWNER\n",
      "4   5726           TRANSFER\n",
      "5   1959              Other\n"
     ]
    },
    {
     "name": "stderr",
     "output_type": "stream",
     "text": [
      "C:\\Users\\slaye\\anaconda3\\envs\\PythonData\\lib\\site-packages\\ipykernel_launcher.py:5: SettingWithCopyWarning: \n",
      "A value is trying to be set on a copy of a slice from a DataFrame.\n",
      "Try using .loc[row_indexer,col_indexer] = value instead\n",
      "\n",
      "See the caveats in the documentation: https://pandas.pydata.org/pandas-docs/stable/user_guide/indexing.html#returning-a-view-versus-a-copy\n",
      "  \"\"\"\n"
     ]
    }
   ],
   "source": [
    "def Outcomes(year):\n",
    "    data = pd.DataFrame(year.groupby('Outcome Type')['Outcome Type'].agg(['count']))\n",
    "    greater = data.loc[data['count'] >= 1000]\n",
    "    lesser = data.loc[data['count'] <= 1000]\n",
    "    greater['Index'] = greater.index\n",
    "    other_count = lesser.sum()\n",
    "    other_row = pd.DataFrame({'count':other_count,'Index': 'Other'})\n",
    "    final = greater.append(other_row,ignore_index=True)\n",
    "    print(final)\n",
    "    # print(final)\n",
    "    # new_row = ('count')\n",
    "    # final = greater.append(new_row)\n",
    "    # new_row = {'count':test3, 'Names': 'Other'}\n",
    "    # test4 = test4.append(new_row,ignore_index=True)\n",
    "year = data_2016\n",
    "Outcomes(year)"
   ]
  },
  {
   "cell_type": "markdown",
   "metadata": {},
   "source": [
    "# Percent euthanized vs. adopted"
   ]
  }
 ],
 "metadata": {
  "kernelspec": {
   "display_name": "Python [conda env:PythonData] *",
   "language": "python",
   "name": "conda-env-PythonData-py"
  },
  "language_info": {
   "codemirror_mode": {
    "name": "ipython",
    "version": 3
   },
   "file_extension": ".py",
   "mimetype": "text/x-python",
   "name": "python",
   "nbconvert_exporter": "python",
   "pygments_lexer": "ipython3",
   "version": "3.6.10"
  }
 },
 "nbformat": 4,
 "nbformat_minor": 4
}
