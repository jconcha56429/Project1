{
 "cells": [
  {
   "cell_type": "markdown",
   "id": "acoustic-equipment",
   "metadata": {},
   "source": [
    "## Which animals/breeds are the most adopted? Statistical Analysis"
   ]
  },
  {
   "cell_type": "code",
   "execution_count": null,
   "id": "southern-smoke",
   "metadata": {},
   "outputs": [],
   "source": [
    "import pandas as pd\n",
    "import matplotlib.pyplot as plt"
   ]
  },
  {
   "cell_type": "code",
   "execution_count": null,
   "id": "blocked-defeat",
   "metadata": {},
   "outputs": [],
   "source": [
    "dallas_data = pd.read_csv('Resources/DallasMergedClean.csv', \n",
    "                          dtype={'Council District': 'string', 'Intake Total': 'string', 'Outcome Subtype': 'string'})\n",
    "#pf_data = pd.read_csv('Project1/Resources/Animals.csv')"
   ]
  },
  {
   "cell_type": "code",
   "execution_count": null,
   "id": "liable-addition",
   "metadata": {},
   "outputs": [],
   "source": [
    "# All adopted animal types\n",
    "dal_adopted = dallas_data.loc[(dallas_data['Outcome Type'] == 'RETURNED TO OWNER') \n",
    "                            | (dallas_data['Outcome Type'] == 'ADOPTION'), \n",
    "                              ['Outcome Type','Animal Type', 'Animal Breed']]\n",
    "dal_adopted "
   ]
  },
  {
   "cell_type": "code",
   "execution_count": null,
   "id": "celtic-finland",
   "metadata": {},
   "outputs": [],
   "source": [
    "# Creating dataframe for animal type adopted bar chart\n",
    "adopt_count = dal_adopted.groupby('Animal Type').count()\n",
    "adopt_count = adopt_count.drop(columns='Animal Breed')\n",
    "adopt_count = adopt_count.rename(columns={'Outcome Type':'Total Adopted'})\n",
    "dal_count = dallas_data.groupby('Animal Type').count()\n",
    "adopt_count['Total Available'] = dal_count['Outcome Type']\n",
    "adopt_count['Percent Adopted'] = (adopt_count['Total Adopted'] / adopt_count['Total Available']) * 100\n",
    "adopt_count['Percent Adopted'] = adopt_count['Percent Adopted'].map(\"{:.2f}%\".format)\n",
    "adopt_count"
   ]
  },
  {
   "cell_type": "code",
   "execution_count": null,
   "id": "toxic-lebanon",
   "metadata": {},
   "outputs": [],
   "source": [
    "adopt_count.plot(kind=\"bar\", stacked=True, rot=45, figsize=(12,6))\n",
    "plt.tight_layout()\n",
    "plt.show()"
   ]
  },
  {
   "cell_type": "code",
   "execution_count": null,
   "id": "weekly-refrigerator",
   "metadata": {},
   "outputs": [],
   "source": [
    "colors = ['r', 'b', 'g', 'c', 'y']\n",
    "labels = ['Bird','Cat','Dog','Livestock','Wildlife']\n",
    "\n",
    "#ax1,ax2 refer to two pies - 1, 2 is 1 row, 2 columns; 2, 1 is 2 rows, 1 column\n",
    "fig, (ax1,ax2) = plt.subplots(1,2,figsize=(15,15)) \n",
    "\n",
    "# Pie showing total number of animal types available for adoption\n",
    "ax1.pie(adopt_count['Total Available'], colors=colors, labels=labels, labeldistance=1.05, \n",
    "        explode=(0, 0, 0.1, 0, 0), autopct=\"%1.1f%%\", pctdistance=1.5)\n",
    "#for wedge in ax1[0]:\n",
    "#    wedge.set_edgecolor('white')\n",
    "ax1.set_title(\"Animal Types Available for Adoption\")\n",
    "\n",
    "# Pie showing total number of animal types adopted\n",
    "ax2.pie(adopt_count['Total Adopted'], colors=colors, labels=labels, labeldistance=1.05, \n",
    "        explode=(0, 0, 0.1, 0, 0), autopct=\"%1.1f%%\", pctdistance=1.5)\n",
    "#for wedge in adopt_pie[0]:\n",
    "#    wedge.set_edgecolor('white')\n",
    "ax2.set_title(\"Animal Types Adopted\")\n",
    "\n",
    "plt.show()"
   ]
  },
  {
   "cell_type": "markdown",
   "id": "descending-morocco",
   "metadata": {},
   "source": [
    "## Dogs are by far the most animal available for adoption (72.71%), followed by cats (22.87%)."
   ]
  },
  {
   "cell_type": "code",
   "execution_count": null,
   "id": "coupled-allen",
   "metadata": {},
   "outputs": [],
   "source": [
    "# Create dataframe for dog breed adoptions\n",
    "dogs_only = dal_adopted.loc[dal_adopted['Animal Type'] == 'DOG']\n",
    "dog_group = dogs_only.groupby(['Animal Breed']).count()\n",
    "dog_group.sort_values(by='Outcome Type', ascending=False, inplace=True)\n",
    "dog_group = dog_group.rename(columns={'Outcome Type':'Total Adopted'})\n",
    "dog_group = dog_group.drop('Animal Type', axis=1)\n",
    "\n",
    "# Finds top 10 dog breeds adopted\n",
    "dog_group = dog_group.iloc[0:10, :]\n",
    "dog_group"
   ]
  },
  {
   "cell_type": "code",
   "execution_count": null,
   "id": "ordered-agenda",
   "metadata": {},
   "outputs": [],
   "source": [
    "# Create dataframe for dog breeds available\n",
    "avail_dogs_only = dallas_data.loc[dallas_data['Animal Type'] == 'DOG']\n",
    "avail_dogs_only = avail_dogs_only[['Animal Type', 'Animal Breed', 'Outcome Type']]\n",
    "avail_dog_group = avail_dogs_only.groupby(['Animal Breed']).count()\n",
    "avail_dog_group.sort_values(by='Animal Type', ascending=False, inplace=True)\n",
    "avail_dog_group = avail_dog_group.rename(columns={'Animal Type':'Total Available'})\n",
    "avail_dog_group = avail_dog_group.drop('Outcome Type', axis=1)\n",
    "\n",
    "# Finds top 10 dog breeds available\n",
    "avail_dog_group = avail_dog_group.iloc[0:10, :]\n",
    "avail_dog_group"
   ]
  },
  {
   "cell_type": "code",
   "execution_count": null,
   "id": "yellow-observer",
   "metadata": {},
   "outputs": [],
   "source": [
    "# Merge dogs available and dogs adopted data frames\n",
    "dog_merge = pd.merge(dog_group, avail_dog_group, on='Animal Breed', how='outer')\n",
    "dog_merge['Percent Adopted'] = (dog_merge['Total Adopted'] / dog_merge['Total Available']) * 100\n",
    "dog_merge['Percent Adopted'] = dog_merge['Percent Adopted'].map(\"{:.2f}%\".format)\n",
    "\n",
    "dog_merge"
   ]
  },
  {
   "cell_type": "code",
   "execution_count": null,
   "id": "progressive-jacket",
   "metadata": {},
   "outputs": [],
   "source": [
    "# Create bar plot for top 10 dog breeds adopted\n",
    "dog_group.plot(kind=\"bar\", rot=45, figsize=(12,6))\n",
    "plt.title(\"Dog Breed Adoptions\")\n",
    "plt.xlabel(\"Dog Breed\")\n",
    "plt.ylabel(\"Total Adopted\")\n",
    "\n",
    "plt.tight_layout()\n",
    "plt.show()"
   ]
  },
  {
   "cell_type": "code",
   "execution_count": null,
   "id": "informal-finger",
   "metadata": {},
   "outputs": [],
   "source": [
    "# Creating dataframe for cat breed adoptions\n",
    "cats_only = dal_adopted.loc[dal_adopted['Animal Type'] == 'CAT']\n",
    "cat_group = cats_only.groupby(['Animal Breed']).count()\n",
    "cat_group.sort_values(by='Outcome Type', ascending=False, inplace=True)\n",
    "cat_group = cat_group.rename(columns={'Outcome Type':'Total Adopted'})\n",
    "cat_group = cat_group.drop('Animal Type', axis=1)\n",
    "\n",
    "# Finds top 10 cat breeds adopted\n",
    "cat_group = cat_group.iloc[0:10, :]\n",
    "cat_group"
   ]
  },
  {
   "cell_type": "code",
   "execution_count": null,
   "id": "consolidated-moore",
   "metadata": {},
   "outputs": [],
   "source": [
    "# Create dataframe for cat breeds available\n",
    "avail_cats_only = dallas_data.loc[dallas_data['Animal Type'] == 'CAT']\n",
    "avail_cats_only = avail_cats_only[['Animal Type', 'Animal Breed', 'Outcome Type']]\n",
    "avail_cat_group = avail_cats_only.groupby(['Animal Breed']).count()\n",
    "avail_cat_group.sort_values(by='Animal Type', ascending=False, inplace=True)\n",
    "avail_cat_group = avail_cat_group.rename(columns={'Animal Type':'Total Available'})\n",
    "avail_cat_group = avail_cat_group.drop('Outcome Type', axis=1)\n",
    "\n",
    "# Finds top 10 cat breeds available\n",
    "avail_cat_group = avail_cat_group.iloc[0:10, :]\n",
    "avail_cat_group"
   ]
  },
  {
   "cell_type": "code",
   "execution_count": null,
   "id": "lonely-denial",
   "metadata": {},
   "outputs": [],
   "source": [
    "# Merge cats available and cats adopted data frames\n",
    "cat_merge = pd.merge(cat_group, avail_cat_group, how='outer', on='Animal Breed')\n",
    "cat_merge['Percent Adopted'] = (cat_merge['Total Adopted'] / cat_merge['Total Available']) * 100\n",
    "cat_merge['Percent Adopted'] = cat_merge['Percent Adopted'].map(\"{:.2f}%\".format)\n",
    "cat_merge.dropna(inplace=True)\n",
    "cat_merge['Total Adopted'] = cat_merge['Total Adopted'].astype(int)\n",
    "cat_merge['Total Available'] = cat_merge['Total Available'].astype(int)\n",
    "\n",
    "cat_merge"
   ]
  },
  {
   "cell_type": "code",
   "execution_count": null,
   "id": "speaking-mileage",
   "metadata": {},
   "outputs": [],
   "source": [
    "# Create bar plot for top 10 cat breeds adopted\n",
    "cat_group.plot(kind=\"bar\", rot=45, figsize=(12,6))\n",
    "plt.title(\"Cat Breed Adoptions\")\n",
    "plt.xlabel(\"Cat Breed\")\n",
    "plt.ylabel(\"Total Adopted\")\n",
    "\n",
    "plt.tight_layout()\n",
    "plt.show()"
   ]
  },
  {
   "cell_type": "markdown",
   "id": "expected-authentication",
   "metadata": {},
   "source": [
    "## The most adopted breeds for dogs are Pit Bulls, Chihuahuas, German Shepards and Labrador Retrievers.  The most adopted breeds for cats are Domestic Shorthair by far.  "
   ]
  },
  {
   "cell_type": "markdown",
   "id": "quiet-sessions",
   "metadata": {},
   "source": [
    "### Null Hypothesis:\n",
    "### Alternate Hypothesis:"
   ]
  },
  {
   "cell_type": "code",
   "execution_count": null,
   "id": "given-despite",
   "metadata": {},
   "outputs": [],
   "source": []
  }
 ],
 "metadata": {
  "kernelspec": {
   "display_name": "Python [conda env:PythonData] *",
   "language": "python",
   "name": "conda-env-PythonData-py"
  },
  "language_info": {
   "codemirror_mode": {
    "name": "ipython",
    "version": 3
   },
   "file_extension": ".py",
   "mimetype": "text/x-python",
   "name": "python",
   "nbconvert_exporter": "python",
   "pygments_lexer": "ipython3",
   "version": "3.6.10"
  }
 },
 "nbformat": 4,
 "nbformat_minor": 5
}
