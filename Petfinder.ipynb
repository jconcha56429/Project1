{
 "cells": [
  {
   "cell_type": "code",
   "execution_count": 1,
   "metadata": {},
   "outputs": [],
   "source": [
    "import json\n",
    "import requests\n",
    "import petpy\n",
    "import pandas as pd\n",
    "\n",
    "from pprint import pprint\n",
    "from petpy import Petfinder\n",
    "\n",
    "\n",
    "key = \"YOUR KEY\"\n",
    "secret = \"YOUR SECRET\"\n",
    "\n",
    "pf = Petfinder(key=key, secret=secret)"
   ]
  },
  {
   "cell_type": "code",
   "execution_count": 29,
   "metadata": {},
   "outputs": [],
   "source": [
    "try:\n",
    "    # Calls API and puts info in a dictionary\n",
    "    animals = pf.animals()  \n",
    "\n",
    "    # Extracting data on specific animals with animal_ids\n",
    "    animal_ids = []\n",
    "    for i in animals['animals'][0:3]:\n",
    "        animal_ids.append(i['id'])\n",
    "    \n",
    "    animal_data = pf.animals(animal_id=animal_ids)\n",
    "\n",
    "    # Returning a pandas DataFrame of the first 10,000 animal results\n",
    "    animals = pf.animals(results_per_page=100, pages=100, return_df=True) # Max pages is 100\n",
    "                                                                          # Max results per page is 100\n",
    "except:\n",
    "    pass\n",
    "\n",
    "# Creates csv file from DataFrame\n",
    "animals.to_csv(\"Resources/Animals.csv\")"
   ]
  },
  {
   "cell_type": "code",
   "execution_count": 2,
   "metadata": {},
   "outputs": [
    {
     "name": "stdout",
     "output_type": "stream",
     "text": [
      "pages parameter exceeded maximum number of available pages available from the Petfinder API. As a result, the maximum number of pages 52 was returned\n"
     ]
    }
   ],
   "source": [
    "try:\n",
    "    # Calls API and puts info in a dictionary\n",
    "    dallas_animals = pf.animals()  \n",
    "\n",
    "    # Extracting data on specific animals with animal_ids\n",
    "    dallas_animal_ids = []\n",
    "    for i in dallas_animals['animals'][0:3]:\n",
    "        dallas_animal_ids.append(i['id'])\n",
    "    \n",
    "    dallas_animal_data = pf.animals(animal_id=dallas_animal_ids)\n",
    "\n",
    "    # Returning a pandas DataFrame of the first 10,000 animal results\n",
    "    dallas_animals = pf.animals(location='Dallas, TX', results_per_page=100, pages=100, return_df=True) # Max pages is 100\n",
    "                                                                          # Max results per page is 100\n",
    "except:\n",
    "    pass\n",
    "\n",
    "dallas_animals.to_csv(\"Resources/DallasAnimalsTest.csv\")"
   ]
  },
  {
   "cell_type": "code",
   "execution_count": null,
   "metadata": {},
   "outputs": [],
   "source": []
  }
 ],
 "metadata": {
  "kernelspec": {
   "display_name": "Python [conda env:PythonData] *",
   "language": "python",
   "name": "conda-env-PythonData-py"
  },
  "language_info": {
   "codemirror_mode": {
    "name": "ipython",
    "version": 3
   },
   "file_extension": ".py",
   "mimetype": "text/x-python",
   "name": "python",
   "nbconvert_exporter": "python",
   "pygments_lexer": "ipython3",
   "version": "3.6.10"
  }
 },
 "nbformat": 4,
 "nbformat_minor": 5
}
