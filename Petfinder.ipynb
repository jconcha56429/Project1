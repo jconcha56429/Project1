{
 "cells": [
  {
   "cell_type": "code",
   "execution_count": 1,
   "id": "fuzzy-collector",
   "metadata": {},
   "outputs": [],
   "source": [
    "import json\n",
    "import requests\n",
    "import petpy\n",
    "import pandas as pd\n",
    "\n",
    "from pprint import pprint\n",
    "from petpy import Petfinder\n",
    "\n",
    "key = \"ETVayYDg3SD5E7l69iwZr8OCqe6rubmx93vyAyjJ0ZvKgSApms\"\n",
    "secret = \"u3WtUMhdsf5SMONJmdgRGcCIYxMVNFuosbWftkca\""
   ]
  },
  {
   "cell_type": "code",
   "execution_count": 2,
   "id": "injured-manual",
   "metadata": {},
   "outputs": [
    {
     "name": "stdout",
     "output_type": "stream",
     "text": [
      "Rate Limit Exceeded\n"
     ]
    }
   ],
   "source": [
    "pf = Petfinder(key=key, secret=secret)\n",
    "\n",
    "try:\n",
    "    # Calls API and puts info in a dictionary\n",
    "    animals = pf.animals()  \n",
    "\n",
    "    # Extracting data on specific animals with animal_ids\n",
    "    animal_ids = []\n",
    "    for i in animals['animals'][0:3]:\n",
    "        animal_ids.append(i['id'])\n",
    "    \n",
    "    animal_data = pf.animals(animal_id=animal_ids)\n",
    "\n",
    "    # Returning a pandas DataFrame of the first 10,000 animal results\n",
    "    animals = pf.animals(results_per_page=100, pages=100, return_df=True) # Max pages is 100\n",
    "                                                                          # Max results per page is 100\n",
    "except:\n",
    "    pass\n",
    "\n",
    "# Get rid of columns we don't need\n",
    "animals = animals[['id', 'organization_id', 'type','species', 'age', 'gender', 'size',\n",
    "                    'coat', 'tags', 'description', 'organization_animal_id', 'status',\n",
    "                    'status_changed_at', 'published_at', 'breeds.primary', 'breeds.secondary', \n",
    "                    'breeds.mixed', 'breeds.unknown', 'colors.primary', 'colors.secondary', \n",
    "                    'colors.tertiary', 'contact.address.city', 'contact.address.state', \n",
    "                    'contact.address.country', 'animal_id', \n",
    "                    'animal_type', 'organization_id']]\n",
    "\n",
    "# Creates csv file from DataFrame\n",
    "animals.to_csv(\"Resources/Animals.csv\")"
   ]
  },
  {
   "cell_type": "code",
   "execution_count": null,
   "id": "framed-argument",
   "metadata": {},
   "outputs": [],
   "source": []
  }
 ],
 "metadata": {
  "kernelspec": {
   "display_name": "Python [conda env:PythonData] *",
   "language": "python",
   "name": "conda-env-PythonData-py"
  },
  "language_info": {
   "codemirror_mode": {
    "name": "ipython",
    "version": 3
   },
   "file_extension": ".py",
   "mimetype": "text/x-python",
   "name": "python",
   "nbconvert_exporter": "python",
   "pygments_lexer": "ipython3",
   "version": "3.6.10"
  }
 },
 "nbformat": 4,
 "nbformat_minor": 5
}
