{
 "cells": [
  {
   "cell_type": "code",
   "execution_count": 1,
   "id": "fuzzy-collector",
   "metadata": {},
   "outputs": [],
   "source": [
    "import json\n",
    "import requests\n",
    "import petpy\n",
    "import pandas as pd\n",
    "\n",
    "from pprint import pprint\n",
    "from petpy import Petfinder\n",
    "\n",
    "key = \"YOUR KEY HERE\"\n",
    "secret = \"YOUR KEY HERE\""
   ]
  },
  {
   "cell_type": "code",
   "execution_count": 2,
   "id": "injured-manual",
   "metadata": {},
   "outputs": [],
   "source": [
    "pf = Petfinder(key=key, secret=secret)\n",
    "\n",
    "try:\n",
    "    # Calls API and puts info in a dictionary\n",
    "    animals = pf.animals()  \n",
    "\n",
    "    # Extracting data on specific animals with animal_ids\n",
    "    animal_ids = []\n",
    "    for i in animals['animals'][0:3]:\n",
    "        animal_ids.append(i['id'])\n",
    "    \n",
    "    animal_data = pf.animals(animal_id=animal_ids)\n",
    "\n",
    "    # Returning a pandas DataFrame of the first 10,000 animal results\n",
    "    animals = pf.animals(results_per_page=100, pages=100, return_df=True) # Max pages is 100\n",
    "                                                                          # Max results per page is 100\n",
    "except:\n",
    "    pass\n",
    "\n",
    "# Creates csv file from DataFrame\n",
    "animals.to_csv(\"../Resources/Animals.csv\")"
   ]
  },
  {
   "cell_type": "code",
   "execution_count": null,
   "id": "framed-argument",
   "metadata": {},
   "outputs": [],
   "source": []
  }
 ],
 "metadata": {
  "kernelspec": {
   "display_name": "Python [conda env:PythonData] *",
   "language": "python",
   "name": "conda-env-PythonData-py"
  },
  "language_info": {
   "codemirror_mode": {
    "name": "ipython",
    "version": 3
   },
   "file_extension": ".py",
   "mimetype": "text/x-python",
   "name": "python",
   "nbconvert_exporter": "python",
   "pygments_lexer": "ipython3",
   "version": "3.6.10"
  }
 },
 "nbformat": 4,
 "nbformat_minor": 5
}
