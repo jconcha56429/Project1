{
 "cells": [
  {
   "cell_type": "code",
   "execution_count": 1,
   "id": "fuzzy-collector",
   "metadata": {},
   "outputs": [],
   "source": [
    "import json\n",
    "import requests\n",
    "import petpy\n",
    "import pandas as pd\n",
    "\n",
    "from pprint import pprint\n",
    "from petpy import Petfinder\n",
    "\n",
    "key = \"YOUR KEY HERE\"\n",
    "secret = \"YOUR KEY HERE\""
   ]
  },
  {
   "cell_type": "code",
   "execution_count": 2,
   "id": "injured-manual",
   "metadata": {},
   "outputs": [],
   "source": [
    "pf = Petfinder(key=key, secret=secret)\n",
    "\n",
    "# Calls API and puts info in a dictionary\n",
    "animals = pf.animal_types()\n",
    "\n",
    "# Puts dictionary into DataFrame\n",
    "animal_data = pd.DataFrame.from_dict(animals)\n",
    "\n",
    "# Creates csv file from DataFrame\n",
    "animal_data.to_csv(\"Animals.csv\")"
   ]
  },
  {
   "cell_type": "code",
   "execution_count": null,
   "id": "medium-matter",
   "metadata": {},
   "outputs": [],
   "source": []
  }
 ],
 "metadata": {
  "kernelspec": {
   "display_name": "Python [conda env:PythonData] *",
   "language": "python",
   "name": "conda-env-PythonData-py"
  },
  "language_info": {
   "codemirror_mode": {
    "name": "ipython",
    "version": 3
   },
   "file_extension": ".py",
   "mimetype": "text/x-python",
   "name": "python",
   "nbconvert_exporter": "python",
   "pygments_lexer": "ipython3",
   "version": "3.6.10"
  }
 },
 "nbformat": 4,
 "nbformat_minor": 5
}
