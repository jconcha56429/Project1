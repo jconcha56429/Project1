{
 "cells": [
  {
   "cell_type": "code",
   "execution_count": 3,
   "metadata": {
    "scrolled": true
   },
   "outputs": [
    {
     "name": "stderr",
     "output_type": "stream",
     "text": [
      "C:\\Users\\kndrs\\anaconda3\\envs\\PythonData\\lib\\site-packages\\ipykernel_launcher.py:14: SettingWithCopyWarning: \n",
      "A value is trying to be set on a copy of a slice from a DataFrame\n",
      "\n",
      "See the caveats in the documentation: https://pandas.pydata.org/pandas-docs/stable/user_guide/indexing.html#returning-a-view-versus-a-copy\n",
      "  \n"
     ]
    }
   ],
   "source": [
    "#Setup \n",
    "\n",
    "import matplotlib.pyplot as plt\n",
    "import pandas as pd\n",
    "import numpy as np\n",
    "from itertools import cycle, islice\n",
    "%matplotlib inline \n",
    "\n",
    "dallas_df = pd.read_csv (r'C:\\Users\\kndrs\\Project1\\clean_shelter_data.csv',low_memory =False)\n",
    "#dallas_df.head()\n",
    "s = dallas_df['Year'] \n",
    "for i in range(len(s)):\n",
    "    s1 = s[i]\n",
    "    s[i] = int(s1[2:])\n",
    "s.head()\n",
    "dallas_df[\"Year\"] =s "
   ]
  },
  {
   "cell_type": "code",
   "execution_count": 4,
   "metadata": {},
   "outputs": [
    {
     "data": {
      "text/html": [
       "<div>\n",
       "<style scoped>\n",
       "    .dataframe tbody tr th:only-of-type {\n",
       "        vertical-align: middle;\n",
       "    }\n",
       "\n",
       "    .dataframe tbody tr th {\n",
       "        vertical-align: top;\n",
       "    }\n",
       "\n",
       "    .dataframe thead th {\n",
       "        text-align: right;\n",
       "    }\n",
       "</style>\n",
       "<table border=\"1\" class=\"dataframe\">\n",
       "  <thead>\n",
       "    <tr style=\"text-align: right;\">\n",
       "      <th></th>\n",
       "      <th>Unnamed: 0</th>\n",
       "      <th>Animal Id</th>\n",
       "      <th>Animal Type</th>\n",
       "      <th>Animal Breed</th>\n",
       "      <th>Kennel Number</th>\n",
       "      <th>Kennel Status</th>\n",
       "      <th>Council District</th>\n",
       "      <th>Intake Type</th>\n",
       "      <th>Intake Subtype</th>\n",
       "      <th>Intake Total</th>\n",
       "      <th>...</th>\n",
       "      <th>Outcome Type</th>\n",
       "      <th>Outcome Date</th>\n",
       "      <th>Impound Number</th>\n",
       "      <th>Outcome Condition</th>\n",
       "      <th>Chip Status</th>\n",
       "      <th>Animal Origin</th>\n",
       "      <th>Additional Information</th>\n",
       "      <th>Month</th>\n",
       "      <th>Year</th>\n",
       "      <th>Outcome Subtype</th>\n",
       "    </tr>\n",
       "  </thead>\n",
       "  <tbody>\n",
       "    <tr>\n",
       "      <th>0</th>\n",
       "      <td>1</td>\n",
       "      <td>A0001656</td>\n",
       "      <td>DOG</td>\n",
       "      <td>LABRADOR RETR</td>\n",
       "      <td>LAB 01</td>\n",
       "      <td>LAB</td>\n",
       "      <td>6</td>\n",
       "      <td>OWNER SURRENDER</td>\n",
       "      <td>GENERAL</td>\n",
       "      <td>1</td>\n",
       "      <td>...</td>\n",
       "      <td>EUTHANIZED</td>\n",
       "      <td>7/21/2016</td>\n",
       "      <td>K16-353536</td>\n",
       "      <td>TREATABLE REHABILITABLE NON-CONTAGIOUS</td>\n",
       "      <td>SCAN CHIP</td>\n",
       "      <td>OVER THE COUNTER</td>\n",
       "      <td>NaN</td>\n",
       "      <td>JUL.2016</td>\n",
       "      <td>2016</td>\n",
       "      <td>NaN</td>\n",
       "    </tr>\n",
       "    <tr>\n",
       "      <th>1</th>\n",
       "      <td>2</td>\n",
       "      <td>A0014681</td>\n",
       "      <td>DOG</td>\n",
       "      <td>PIT BULL</td>\n",
       "      <td>PAWS 24</td>\n",
       "      <td>UNAVAILABLE</td>\n",
       "      <td>7</td>\n",
       "      <td>OWNER SURRENDER</td>\n",
       "      <td>GENERAL</td>\n",
       "      <td>1</td>\n",
       "      <td>...</td>\n",
       "      <td>TRANSFER</td>\n",
       "      <td>3/31/2016</td>\n",
       "      <td>K16-338470</td>\n",
       "      <td>TREATABLE MANAGEABLE NON-CONTAGIOUS</td>\n",
       "      <td>SCAN NO CHIP</td>\n",
       "      <td>FIELD</td>\n",
       "      <td>TAGGHOUSEBROKEN/FREE ADOPT</td>\n",
       "      <td>FEB.2016</td>\n",
       "      <td>2016</td>\n",
       "      <td>NaN</td>\n",
       "    </tr>\n",
       "    <tr>\n",
       "      <th>2</th>\n",
       "      <td>3</td>\n",
       "      <td>A0117773</td>\n",
       "      <td>DOG</td>\n",
       "      <td>PIT BULL</td>\n",
       "      <td>LAB 01</td>\n",
       "      <td>LAB</td>\n",
       "      <td>2</td>\n",
       "      <td>OWNER SURRENDER</td>\n",
       "      <td>EUTHANASIA REQUESTED</td>\n",
       "      <td>1</td>\n",
       "      <td>...</td>\n",
       "      <td>EUTHANIZED</td>\n",
       "      <td>7/5/2016</td>\n",
       "      <td>K16-351923</td>\n",
       "      <td>UNHEALTHY UNTREATABLE NON-CONTAGIOUS</td>\n",
       "      <td>SCAN NO CHIP</td>\n",
       "      <td>OVER THE COUNTER</td>\n",
       "      <td>NaN</td>\n",
       "      <td>JUL.2016</td>\n",
       "      <td>2016</td>\n",
       "      <td>NaN</td>\n",
       "    </tr>\n",
       "    <tr>\n",
       "      <th>3</th>\n",
       "      <td>4</td>\n",
       "      <td>A0119934</td>\n",
       "      <td>CAT</td>\n",
       "      <td>RUSSIAN BLUE</td>\n",
       "      <td>LOST</td>\n",
       "      <td>LOST REPORT</td>\n",
       "      <td>14</td>\n",
       "      <td>LOST REPORT</td>\n",
       "      <td>NaN</td>\n",
       "      <td>1</td>\n",
       "      <td>...</td>\n",
       "      <td>LOST REPORT</td>\n",
       "      <td>7/19/2016</td>\n",
       "      <td>K16-345201</td>\n",
       "      <td>HEALTHY</td>\n",
       "      <td>UNABLE TO SCAN</td>\n",
       "      <td>OVER THE COUNTER</td>\n",
       "      <td>NaN</td>\n",
       "      <td>JUL.2016</td>\n",
       "      <td>2016</td>\n",
       "      <td>NaN</td>\n",
       "    </tr>\n",
       "    <tr>\n",
       "      <th>4</th>\n",
       "      <td>5</td>\n",
       "      <td>A0132276</td>\n",
       "      <td>CAT</td>\n",
       "      <td>DOMESTIC SH</td>\n",
       "      <td>QC 03</td>\n",
       "      <td>RELEASED FROM QUARANTINE</td>\n",
       "      <td>10</td>\n",
       "      <td>CONFISCATED</td>\n",
       "      <td>QUARANTINE</td>\n",
       "      <td>1</td>\n",
       "      <td>...</td>\n",
       "      <td>RETURNED TO OWNER</td>\n",
       "      <td>9/27/2016</td>\n",
       "      <td>K16-359916</td>\n",
       "      <td>UNHEALTHY UNTREATABLE NON-CONTAGIOUS</td>\n",
       "      <td>UNABLE TO SCAN</td>\n",
       "      <td>FIELD</td>\n",
       "      <td>NaN</td>\n",
       "      <td>SEP.2016</td>\n",
       "      <td>2016</td>\n",
       "      <td>NaN</td>\n",
       "    </tr>\n",
       "  </tbody>\n",
       "</table>\n",
       "<p>5 rows × 26 columns</p>\n",
       "</div>"
      ],
      "text/plain": [
       "   Unnamed: 0 Animal Id Animal Type   Animal Breed Kennel Number  \\\n",
       "0           1  A0001656         DOG  LABRADOR RETR        LAB 01   \n",
       "1           2  A0014681         DOG       PIT BULL       PAWS 24   \n",
       "2           3  A0117773         DOG       PIT BULL        LAB 01   \n",
       "3           4  A0119934         CAT   RUSSIAN BLUE          LOST   \n",
       "4           5  A0132276         CAT    DOMESTIC SH         QC 03   \n",
       "\n",
       "              Kennel Status Council District      Intake Type  \\\n",
       "0                       LAB                6  OWNER SURRENDER   \n",
       "1               UNAVAILABLE                7  OWNER SURRENDER   \n",
       "2                       LAB                2  OWNER SURRENDER   \n",
       "3               LOST REPORT               14      LOST REPORT   \n",
       "4  RELEASED FROM QUARANTINE               10      CONFISCATED   \n",
       "\n",
       "         Intake Subtype Intake Total  ...       Outcome Type Outcome Date  \\\n",
       "0               GENERAL            1  ...         EUTHANIZED    7/21/2016   \n",
       "1               GENERAL            1  ...           TRANSFER    3/31/2016   \n",
       "2  EUTHANASIA REQUESTED            1  ...         EUTHANIZED     7/5/2016   \n",
       "3                   NaN            1  ...        LOST REPORT    7/19/2016   \n",
       "4            QUARANTINE            1  ...  RETURNED TO OWNER    9/27/2016   \n",
       "\n",
       "  Impound Number                       Outcome Condition     Chip Status  \\\n",
       "0     K16-353536  TREATABLE REHABILITABLE NON-CONTAGIOUS       SCAN CHIP   \n",
       "1     K16-338470     TREATABLE MANAGEABLE NON-CONTAGIOUS    SCAN NO CHIP   \n",
       "2     K16-351923    UNHEALTHY UNTREATABLE NON-CONTAGIOUS    SCAN NO CHIP   \n",
       "3     K16-345201                                 HEALTHY  UNABLE TO SCAN   \n",
       "4     K16-359916    UNHEALTHY UNTREATABLE NON-CONTAGIOUS  UNABLE TO SCAN   \n",
       "\n",
       "      Animal Origin      Additional Information     Month  Year  \\\n",
       "0  OVER THE COUNTER                         NaN  JUL.2016  2016   \n",
       "1             FIELD  TAGGHOUSEBROKEN/FREE ADOPT  FEB.2016  2016   \n",
       "2  OVER THE COUNTER                         NaN  JUL.2016  2016   \n",
       "3  OVER THE COUNTER                         NaN  JUL.2016  2016   \n",
       "4             FIELD                         NaN  SEP.2016  2016   \n",
       "\n",
       "  Outcome Subtype  \n",
       "0             NaN  \n",
       "1             NaN  \n",
       "2             NaN  \n",
       "3             NaN  \n",
       "4             NaN  \n",
       "\n",
       "[5 rows x 26 columns]"
      ]
     },
     "execution_count": 4,
     "metadata": {},
     "output_type": "execute_result"
    }
   ],
   "source": [
    "dallas_df.head()\n"
   ]
  },
  {
   "cell_type": "code",
   "execution_count": 2,
   "metadata": {},
   "outputs": [
    {
     "ename": "NameError",
     "evalue": "name 'dallas_df' is not defined",
     "output_type": "error",
     "traceback": [
      "\u001b[1;31m---------------------------------------------------------------------------\u001b[0m",
      "\u001b[1;31mNameError\u001b[0m                                 Traceback (most recent call last)",
      "\u001b[1;32m<ipython-input-2-cb824bb858e3>\u001b[0m in \u001b[0;36m<module>\u001b[1;34m\u001b[0m\n\u001b[0;32m      1\u001b[0m \u001b[1;31m# Sort out the year\u001b[0m\u001b[1;33m\u001b[0m\u001b[1;33m\u001b[0m\u001b[1;33m\u001b[0m\u001b[0m\n\u001b[1;32m----> 2\u001b[1;33m dallas_adopted = dallas_df.loc[(dallas_df['Outcome Type'] == \"RETURNED TO OWNER\") \n\u001b[0m\u001b[0;32m      3\u001b[0m                                 \u001b[1;33m|\u001b[0m \u001b[1;33m(\u001b[0m\u001b[0mdallas_df\u001b[0m\u001b[1;33m[\u001b[0m\u001b[1;34m'Outcome Type'\u001b[0m\u001b[1;33m]\u001b[0m\u001b[1;33m==\u001b[0m \u001b[1;34m'ADOPTION'\u001b[0m\u001b[1;33m)\u001b[0m\u001b[1;33m,\u001b[0m\u001b[1;33m\u001b[0m\u001b[1;33m\u001b[0m\u001b[0m\n\u001b[0;32m      4\u001b[0m                                ['Outcome Type', 'Year','Animal Type']]\n\u001b[0;32m      5\u001b[0m \u001b[1;33m\u001b[0m\u001b[0m\n",
      "\u001b[1;31mNameError\u001b[0m: name 'dallas_df' is not defined"
     ]
    }
   ],
   "source": [
    "# Sort out the year\n",
    "dallas_adopted = dallas_df.loc[(dallas_df['Outcome Type'] == \"RETURNED TO OWNER\") \n",
    "                                | (dallas_df['Outcome Type']== 'ADOPTION'),\n",
    "                               ['Outcome Type', 'Year','Animal Type']]\n",
    "\n",
    "dallas_adopted\n",
    "\n",
    "plt.savefig(r\"C:\\Users\\kndrs\\Project1\\total_df.png\",bbox_inches='tight')\n"
   ]
  },
  {
   "cell_type": "code",
   "execution_count": 136,
   "metadata": {},
   "outputs": [
    {
     "data": {
      "text/plain": [
       "2019    22712\n",
       "2018    17820\n",
       "2020    13845\n",
       "2017    13836\n",
       "2016    10257\n",
       "Name: Year, dtype: int64"
      ]
     },
     "execution_count": 136,
     "metadata": {},
     "output_type": "execute_result"
    }
   ],
   "source": [
    "# Convert year to numeric \n",
    "\n",
    "#dallas_adopted_df = dallas_adopted.apply(pd.to_numeric)\n",
    "# Create a line  graph \n",
    "\n",
    "df = dallas_adopted[\"Year\"].value_counts().head()\n",
    "\n",
    "df\n",
    "\n",
    "#y= dallas_adopted[\"Outcome Type\"].values\n",
    "\n",
    "\n",
    "\n",
    "#dallas_adopted.plot(x, y)\n",
    "\n",
    "#plt.title('Total animals adopted per year')\n",
    "#plt.ylabel(\"Number of animals\")"
   ]
  },
  {
   "cell_type": "code",
   "execution_count": 171,
   "metadata": {
    "scrolled": true
   },
   "outputs": [
    {
     "data": {
      "image/png": "[encoded data removed]",
      "text/plain": [
       "<Figure size 432x288 with 1 Axes>"
      ]
     },
     "metadata": {
      "needs_background": "light"
     },
     "output_type": "display_data"
    }
   ],
   "source": [
    "# Create a basic bar graph \n",
    "dallas_adopted_year = pd.DataFrame(dallas_adopted.groupby('Year').count())\n",
    "\n",
    "dallas_adopted_year = dallas_adopted_year.drop(columns='Animal Type')\n",
    "\n",
    "\n",
    "dallas_adopted_year.plot.bar(color= \"purple\")\n",
    "\n",
    "plt.title('Total animals adopted per year')\n",
    "plt.ylabel(\"Number of animals\")\n",
    "\n",
    "plt.savefig(r\"C:\\Users\\kndrs\\Project1\\Total_adoptions\",bbox_inches='tight')\n"
   ]
  },
  {
   "cell_type": "code",
   "execution_count": null,
   "metadata": {},
   "outputs": [],
   "source": []
  },
  {
   "cell_type": "code",
   "execution_count": 83,
   "metadata": {},
   "outputs": [
    {
     "data": {
      "image/png": "[encoded data removed]",
      "text/plain": [
       "<Figure size 432x288 with 1 Axes>"
      ]
     },
     "metadata": {
      "needs_background": "light"
     },
     "output_type": "display_data"
    }
   ],
   "source": [
    "dogs_adopted = dallas_adopted.loc[ dallas_adopted['Animal Type'] == 'DOG']\n",
    "dog_years = dogs_adopted[\"Year\"]\n",
    "\n",
    "plt.bar(dog_years,dogs_adopted.index)\n",
    "plt.xlabel (\"Years\")\n",
    "plt.ylabel('Number of dogs')\n",
    "plt.show()\n",
    "\n"
   ]
  },
  {
   "cell_type": "code",
   "execution_count": 81,
   "metadata": {},
   "outputs": [
    {
     "data": {
      "image/png": "[encoded data removed]",
      "text/plain": [
       "<Figure size 432x288 with 1 Axes>"
      ]
     },
     "metadata": {
      "needs_background": "light"
     },
     "output_type": "display_data"
    }
   ],
   "source": [
    "cats_adopted = dallas_adopted.loc[dallas_adopted['Animal Type'] == 'CAT']\n",
    "cat_years = cats_adopted[\"Year\"]\n",
    "\n",
    "plt.bar(cat_years,cats_adopted.index)\n",
    "plt.xlabel (\"Years\")\n",
    "plt.ylabel('Number of cats')\n",
    "plt.show()\n"
   ]
  },
  {
   "cell_type": "code",
   "execution_count": 141,
   "metadata": {},
   "outputs": [
    {
     "data": {
      "text/html": [
       "<div>\n",
       "<style scoped>\n",
       "    .dataframe tbody tr th:only-of-type {\n",
       "        vertical-align: middle;\n",
       "    }\n",
       "\n",
       "    .dataframe tbody tr th {\n",
       "        vertical-align: top;\n",
       "    }\n",
       "\n",
       "    .dataframe thead th {\n",
       "        text-align: right;\n",
       "    }\n",
       "</style>\n",
       "<table border=\"1\" class=\"dataframe\">\n",
       "  <thead>\n",
       "    <tr style=\"text-align: right;\">\n",
       "      <th></th>\n",
       "      <th></th>\n",
       "      <th>Animal Type</th>\n",
       "    </tr>\n",
       "    <tr>\n",
       "      <th>Year</th>\n",
       "      <th>Outcome Type</th>\n",
       "      <th></th>\n",
       "    </tr>\n",
       "  </thead>\n",
       "  <tbody>\n",
       "    <tr>\n",
       "      <th rowspan=\"2\" valign=\"top\">2016</th>\n",
       "      <th>ADOPTION</th>\n",
       "      <td>8358</td>\n",
       "    </tr>\n",
       "    <tr>\n",
       "      <th>RETURNED TO OWNER</th>\n",
       "      <td>1899</td>\n",
       "    </tr>\n",
       "    <tr>\n",
       "      <th rowspan=\"2\" valign=\"top\">2017</th>\n",
       "      <th>ADOPTION</th>\n",
       "      <td>9665</td>\n",
       "    </tr>\n",
       "    <tr>\n",
       "      <th>RETURNED TO OWNER</th>\n",
       "      <td>4171</td>\n",
       "    </tr>\n",
       "    <tr>\n",
       "      <th rowspan=\"2\" valign=\"top\">2018</th>\n",
       "      <th>ADOPTION</th>\n",
       "      <td>11482</td>\n",
       "    </tr>\n",
       "    <tr>\n",
       "      <th>RETURNED TO OWNER</th>\n",
       "      <td>6338</td>\n",
       "    </tr>\n",
       "    <tr>\n",
       "      <th rowspan=\"2\" valign=\"top\">2019</th>\n",
       "      <th>ADOPTION</th>\n",
       "      <td>12429</td>\n",
       "    </tr>\n",
       "    <tr>\n",
       "      <th>RETURNED TO OWNER</th>\n",
       "      <td>10283</td>\n",
       "    </tr>\n",
       "    <tr>\n",
       "      <th rowspan=\"2\" valign=\"top\">2020</th>\n",
       "      <th>ADOPTION</th>\n",
       "      <td>7804</td>\n",
       "    </tr>\n",
       "    <tr>\n",
       "      <th>RETURNED TO OWNER</th>\n",
       "      <td>6041</td>\n",
       "    </tr>\n",
       "    <tr>\n",
       "      <th rowspan=\"2\" valign=\"top\">2021</th>\n",
       "      <th>ADOPTION</th>\n",
       "      <td>2643</td>\n",
       "    </tr>\n",
       "    <tr>\n",
       "      <th>RETURNED TO OWNER</th>\n",
       "      <td>1673</td>\n",
       "    </tr>\n",
       "  </tbody>\n",
       "</table>\n",
       "</div>"
      ],
      "text/plain": [
       "                        Animal Type\n",
       "Year Outcome Type                  \n",
       "2016 ADOPTION                  8358\n",
       "     RETURNED TO OWNER         1899\n",
       "2017 ADOPTION                  9665\n",
       "     RETURNED TO OWNER         4171\n",
       "2018 ADOPTION                 11482\n",
       "     RETURNED TO OWNER         6338\n",
       "2019 ADOPTION                 12429\n",
       "     RETURNED TO OWNER        10283\n",
       "2020 ADOPTION                  7804\n",
       "     RETURNED TO OWNER         6041\n",
       "2021 ADOPTION                  2643\n",
       "     RETURNED TO OWNER         1673"
      ]
     },
     "execution_count": 141,
     "metadata": {},
     "output_type": "execute_result"
    }
   ],
   "source": [
    "dallas_adopted_pivot = dallas_adopted.pivot_table(dallas_adopted,[\"Year\", \"Outcome Type\",], aggfunc = \"count\")\n",
    "dallas_adopted_pivot\n",
    "\n"
   ]
  },
  {
   "cell_type": "code",
   "execution_count": 173,
   "metadata": {
    "scrolled": true
   },
   "outputs": [
    {
     "data": {
      "image/png": "[encoded data removed]",
      "text/plain": [
       "<Figure size 432x288 with 1 Axes>"
      ]
     },
     "metadata": {
      "needs_background": "light"
     },
     "output_type": "display_data"
    }
   ],
   "source": [
    "dallas_adopted_pivot.plot(kind =\"barh\", color = \"green\")\n",
    "plt.title(\"Returned to Owner Vs Adoption\")\n",
    "plt.xlabel(\"Number of Animals\")\n",
    "plt.savefig(r\"C:\\Users\\kndrs\\Project1\\Outcome_comparison.png\",bbox_inches='tight')\n"
   ]
  },
  {
   "cell_type": "code",
   "execution_count": 149,
   "metadata": {},
   "outputs": [
    {
     "data": {
      "text/html": [
       "<div>\n",
       "<style scoped>\n",
       "    .dataframe tbody tr th:only-of-type {\n",
       "        vertical-align: middle;\n",
       "    }\n",
       "\n",
       "    .dataframe tbody tr th {\n",
       "        vertical-align: top;\n",
       "    }\n",
       "\n",
       "    .dataframe thead th {\n",
       "        text-align: right;\n",
       "    }\n",
       "</style>\n",
       "<table border=\"1\" class=\"dataframe\">\n",
       "  <thead>\n",
       "    <tr style=\"text-align: right;\">\n",
       "      <th></th>\n",
       "      <th></th>\n",
       "      <th>Outcome Type</th>\n",
       "    </tr>\n",
       "    <tr>\n",
       "      <th>Year</th>\n",
       "      <th>Animal Type</th>\n",
       "      <th></th>\n",
       "    </tr>\n",
       "  </thead>\n",
       "  <tbody>\n",
       "    <tr>\n",
       "      <th rowspan=\"4\" valign=\"top\">2016</th>\n",
       "      <th>BIRD</th>\n",
       "      <td>11</td>\n",
       "    </tr>\n",
       "    <tr>\n",
       "      <th>CAT</th>\n",
       "      <td>1731</td>\n",
       "    </tr>\n",
       "    <tr>\n",
       "      <th>DOG</th>\n",
       "      <td>8333</td>\n",
       "    </tr>\n",
       "    <tr>\n",
       "      <th>WILDLIFE</th>\n",
       "      <td>182</td>\n",
       "    </tr>\n",
       "    <tr>\n",
       "      <th rowspan=\"5\" valign=\"top\">2017</th>\n",
       "      <th>BIRD</th>\n",
       "      <td>15</td>\n",
       "    </tr>\n",
       "    <tr>\n",
       "      <th>CAT</th>\n",
       "      <td>2063</td>\n",
       "    </tr>\n",
       "    <tr>\n",
       "      <th>DOG</th>\n",
       "      <td>11613</td>\n",
       "    </tr>\n",
       "    <tr>\n",
       "      <th>LIVESTOCK</th>\n",
       "      <td>5</td>\n",
       "    </tr>\n",
       "    <tr>\n",
       "      <th>WILDLIFE</th>\n",
       "      <td>140</td>\n",
       "    </tr>\n",
       "    <tr>\n",
       "      <th rowspan=\"5\" valign=\"top\">2018</th>\n",
       "      <th>BIRD</th>\n",
       "      <td>18</td>\n",
       "    </tr>\n",
       "    <tr>\n",
       "      <th>CAT</th>\n",
       "      <td>2670</td>\n",
       "    </tr>\n",
       "    <tr>\n",
       "      <th>DOG</th>\n",
       "      <td>14898</td>\n",
       "    </tr>\n",
       "    <tr>\n",
       "      <th>LIVESTOCK</th>\n",
       "      <td>6</td>\n",
       "    </tr>\n",
       "    <tr>\n",
       "      <th>WILDLIFE</th>\n",
       "      <td>228</td>\n",
       "    </tr>\n",
       "    <tr>\n",
       "      <th rowspan=\"5\" valign=\"top\">2019</th>\n",
       "      <th>BIRD</th>\n",
       "      <td>17</td>\n",
       "    </tr>\n",
       "    <tr>\n",
       "      <th>CAT</th>\n",
       "      <td>3214</td>\n",
       "    </tr>\n",
       "    <tr>\n",
       "      <th>DOG</th>\n",
       "      <td>19314</td>\n",
       "    </tr>\n",
       "    <tr>\n",
       "      <th>LIVESTOCK</th>\n",
       "      <td>6</td>\n",
       "    </tr>\n",
       "    <tr>\n",
       "      <th>WILDLIFE</th>\n",
       "      <td>161</td>\n",
       "    </tr>\n",
       "    <tr>\n",
       "      <th rowspan=\"5\" valign=\"top\">2020</th>\n",
       "      <th>BIRD</th>\n",
       "      <td>10</td>\n",
       "    </tr>\n",
       "    <tr>\n",
       "      <th>CAT</th>\n",
       "      <td>1958</td>\n",
       "    </tr>\n",
       "    <tr>\n",
       "      <th>DOG</th>\n",
       "      <td>11756</td>\n",
       "    </tr>\n",
       "    <tr>\n",
       "      <th>LIVESTOCK</th>\n",
       "      <td>4</td>\n",
       "    </tr>\n",
       "    <tr>\n",
       "      <th>WILDLIFE</th>\n",
       "      <td>117</td>\n",
       "    </tr>\n",
       "    <tr>\n",
       "      <th rowspan=\"5\" valign=\"top\">2021</th>\n",
       "      <th>BIRD</th>\n",
       "      <td>2</td>\n",
       "    </tr>\n",
       "    <tr>\n",
       "      <th>CAT</th>\n",
       "      <td>536</td>\n",
       "    </tr>\n",
       "    <tr>\n",
       "      <th>DOG</th>\n",
       "      <td>3751</td>\n",
       "    </tr>\n",
       "    <tr>\n",
       "      <th>LIVESTOCK</th>\n",
       "      <td>3</td>\n",
       "    </tr>\n",
       "    <tr>\n",
       "      <th>WILDLIFE</th>\n",
       "      <td>24</td>\n",
       "    </tr>\n",
       "  </tbody>\n",
       "</table>\n",
       "</div>"
      ],
      "text/plain": [
       "                  Outcome Type\n",
       "Year Animal Type              \n",
       "2016 BIRD                   11\n",
       "     CAT                  1731\n",
       "     DOG                  8333\n",
       "     WILDLIFE              182\n",
       "2017 BIRD                   15\n",
       "     CAT                  2063\n",
       "     DOG                 11613\n",
       "     LIVESTOCK               5\n",
       "     WILDLIFE              140\n",
       "2018 BIRD                   18\n",
       "     CAT                  2670\n",
       "     DOG                 14898\n",
       "     LIVESTOCK               6\n",
       "     WILDLIFE              228\n",
       "2019 BIRD                   17\n",
       "     CAT                  3214\n",
       "     DOG                 19314\n",
       "     LIVESTOCK               6\n",
       "     WILDLIFE              161\n",
       "2020 BIRD                   10\n",
       "     CAT                  1958\n",
       "     DOG                 11756\n",
       "     LIVESTOCK               4\n",
       "     WILDLIFE              117\n",
       "2021 BIRD                    2\n",
       "     CAT                   536\n",
       "     DOG                  3751\n",
       "     LIVESTOCK               3\n",
       "     WILDLIFE               24"
      ]
     },
     "execution_count": 149,
     "metadata": {},
     "output_type": "execute_result"
    }
   ],
   "source": [
    "dallas_adopted_animals = dallas_adopted.pivot_table(dallas_adopted,[ \"Year\",\"Animal Type\",], aggfunc = \"count\")\n",
    "dallas_adopted_animals "
   ]
  },
  {
   "cell_type": "code",
   "execution_count": 169,
   "metadata": {},
   "outputs": [
    {
     "data": {
      "image/png": "[encoded data removed]",
      "text/plain": [
       "<Figure size 432x288 with 1 Axes>"
      ]
     },
     "metadata": {
      "needs_background": "light"
     },
     "output_type": "display_data"
    }
   ],
   "source": [
    "dallas_adopted_animals.plot(kind =\"bar\")\n",
    "\n",
    "plt.ylabel (\"Number of Animals\")\n",
    "plt.title (\"Trend of Animals Outcome\")\n",
    "\n",
    "plt.savefig(r\"C:\\Users\\kndrs\\Project1\\Trend_of_Animals.png\",bbox_inches='tight')"
   ]
  },
  {
   "cell_type": "code",
   "execution_count": 157,
   "metadata": {
    "scrolled": true
   },
   "outputs": [
    {
     "data": {
      "text/plain": [
       "<matplotlib.axes._subplots.AxesSubplot at 0x18f4855f080>"
      ]
     },
     "execution_count": 157,
     "metadata": {},
     "output_type": "execute_result"
    },
    {
     "data": {
      "image/png": "[encoded data removed]",
      "text/plain": [
       "<Figure size 432x288 with 1 Axes>"
      ]
     },
     "metadata": {
      "needs_background": "light"
     },
     "output_type": "display_data"
    }
   ],
   "source": [
    "dallas_adopted_animals.plot()\n",
    "\n"
   ]
  },
  {
   "cell_type": "code",
   "execution_count": null,
   "metadata": {},
   "outputs": [],
   "source": []
  }
 ],
 "metadata": {
  "kernelspec": {
   "display_name": "Python [conda env:PythonData] *",
   "language": "python",
   "name": "conda-env-PythonData-py"
  },
  "language_info": {
   "codemirror_mode": {
    "name": "ipython",
    "version": 3
   },
   "file_extension": ".py",
   "mimetype": "text/x-python",
   "name": "python",
   "nbconvert_exporter": "python",
   "pygments_lexer": "ipython3",
   "version": "3.6.10"
  }
 },
 "nbformat": 4,
 "nbformat_minor": 4
}
