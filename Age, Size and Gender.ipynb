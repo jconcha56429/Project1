{
 "cells": [
  {
   "cell_type": "code",
   "execution_count": 12,
   "metadata": {},
   "outputs": [],
   "source": [
    "from datetime import datetime, date\n",
    "import calendar\n",
    "from time import mktime\n",
    "import pandas, sys\n",
    "import pandas as pd\n",
    "import matplotlib.pyplot as plt\n",
    "import numpy as np\n",
    "import scipy.stats as st\n",
    "from pytz import utc, timezone\n",
    "\n",
    "datafile_16 = \"Resources/FY_2016_Dallas_Animal_Shelter_Data.csv\"\n",
    "datafile_17 = \"Resources/FY_2017_Dallas_Animal_Shelter_Data.csv\"\n",
    "datafile_18 = \"Resources/FY_2018_Dallas_Animal_Shelter_Data.csv\"\n",
    "datafile_19 = \"Resources/FY_2019_Dallas_Animal_Shelter_Data.csv\"\n",
    "datafile_20 = \"Resources/FY2020_Dallas_Animal_Shelter_Data.csv\"\n",
    "datafile_21 = \"Resources/FY2021_Dallas_Animal_Shelter_Data.csv\"\n",
    "\n",
    "df_2016 = pd.read_csv(datafile_16)\n",
    "df_2017 = pd.read_csv(datafile_17)\n",
    "df_2018 = pd.read_csv(datafile_18)\n",
    "df_2019 = pd.read_csv(datafile_19)\n",
    "df_2020 = pd.read_csv(datafile_20)\n",
    "df_2021 = pd.read_csv(datafile_21)\n"
   ]
  },
  {
   "cell_type": "code",
   "execution_count": 13,
   "metadata": {},
   "outputs": [],
   "source": [
    "# Merge All the dataframes into one\n",
    "df_16_21 = [df_2016, df_2017, df_2018, df_2019, df_2020, df_2021]\n",
    "dallas_shelter_df = pd.concat(df_16_21)"
   ]
  },
  {
   "cell_type": "code",
   "execution_count": 14,
   "metadata": {},
   "outputs": [
    {
     "data": {
      "text/html": [
       "<div>\n",
       "<style scoped>\n",
       "    .dataframe tbody tr th:only-of-type {\n",
       "        vertical-align: middle;\n",
       "    }\n",
       "\n",
       "    .dataframe tbody tr th {\n",
       "        vertical-align: top;\n",
       "    }\n",
       "\n",
       "    .dataframe thead th {\n",
       "        text-align: right;\n",
       "    }\n",
       "</style>\n",
       "<table border=\"1\" class=\"dataframe\">\n",
       "  <thead>\n",
       "    <tr style=\"text-align: right;\">\n",
       "      <th></th>\n",
       "      <th>Animal Id</th>\n",
       "      <th>Animal Type</th>\n",
       "      <th>Animal Breed</th>\n",
       "      <th>Kennel Number</th>\n",
       "      <th>Kennel Status</th>\n",
       "      <th>Tag Type</th>\n",
       "      <th>Activity Number</th>\n",
       "      <th>Activity Sequence</th>\n",
       "      <th>Source Id</th>\n",
       "      <th>Census Tract</th>\n",
       "      <th>...</th>\n",
       "      <th>Service Request Number</th>\n",
       "      <th>Outcome Condition</th>\n",
       "      <th>Chip Status</th>\n",
       "      <th>Animal Origin</th>\n",
       "      <th>Additional Information</th>\n",
       "      <th>Month</th>\n",
       "      <th>Year</th>\n",
       "      <th>Unnamed: 16</th>\n",
       "      <th>Outcome Subtype</th>\n",
       "      <th>Unnamed: 27</th>\n",
       "    </tr>\n",
       "  </thead>\n",
       "  <tbody>\n",
       "    <tr>\n",
       "      <th>0</th>\n",
       "      <td>A0000000</td>\n",
       "      <td>NaN</td>\n",
       "      <td>NaN</td>\n",
       "      <td>FREEZER</td>\n",
       "      <td>UNAVAILABLE</td>\n",
       "      <td>NaN</td>\n",
       "      <td>A16-017406</td>\n",
       "      <td>1</td>\n",
       "      <td>P0000000</td>\n",
       "      <td>701</td>\n",
       "      <td>...</td>\n",
       "      <td>NaN</td>\n",
       "      <td>UNHEALTHY UNTREATABLE NON-CONTAGIOUS</td>\n",
       "      <td>UNABLE TO SCAN</td>\n",
       "      <td>FIELD</td>\n",
       "      <td>NaN</td>\n",
       "      <td>JUN.2016</td>\n",
       "      <td>FY2016</td>\n",
       "      <td>NaN</td>\n",
       "      <td>NaN</td>\n",
       "      <td>NaN</td>\n",
       "    </tr>\n",
       "    <tr>\n",
       "      <th>1</th>\n",
       "      <td>A0001656</td>\n",
       "      <td>DOG</td>\n",
       "      <td>LABRADOR RETR</td>\n",
       "      <td>LAB 01</td>\n",
       "      <td>LAB</td>\n",
       "      <td>NaN</td>\n",
       "      <td>NaN</td>\n",
       "      <td>1</td>\n",
       "      <td>P0003571</td>\n",
       "      <td>20500</td>\n",
       "      <td>...</td>\n",
       "      <td>NaN</td>\n",
       "      <td>TREATABLE REHABILITABLE NON-CONTAGIOUS</td>\n",
       "      <td>SCAN CHIP</td>\n",
       "      <td>OVER THE COUNTER</td>\n",
       "      <td>NaN</td>\n",
       "      <td>JUL.2016</td>\n",
       "      <td>FY2016</td>\n",
       "      <td>NaN</td>\n",
       "      <td>NaN</td>\n",
       "      <td>NaN</td>\n",
       "    </tr>\n",
       "    <tr>\n",
       "      <th>2</th>\n",
       "      <td>A0014681</td>\n",
       "      <td>DOG</td>\n",
       "      <td>PIT BULL</td>\n",
       "      <td>PAWS 24</td>\n",
       "      <td>UNAVAILABLE</td>\n",
       "      <td>NaN</td>\n",
       "      <td>NaN</td>\n",
       "      <td>1</td>\n",
       "      <td>P0721470</td>\n",
       "      <td>12302</td>\n",
       "      <td>...</td>\n",
       "      <td>50020</td>\n",
       "      <td>TREATABLE MANAGEABLE NON-CONTAGIOUS</td>\n",
       "      <td>SCAN NO CHIP</td>\n",
       "      <td>FIELD</td>\n",
       "      <td>TAGGHOUSEBROKEN/FREE ADOPT</td>\n",
       "      <td>FEB.2016</td>\n",
       "      <td>FY2016</td>\n",
       "      <td>NaN</td>\n",
       "      <td>NaN</td>\n",
       "      <td>NaN</td>\n",
       "    </tr>\n",
       "    <tr>\n",
       "      <th>3</th>\n",
       "      <td>A0117773</td>\n",
       "      <td>DOG</td>\n",
       "      <td>PIT BULL</td>\n",
       "      <td>LAB 01</td>\n",
       "      <td>LAB</td>\n",
       "      <td>NaN</td>\n",
       "      <td>NaN</td>\n",
       "      <td>1</td>\n",
       "      <td>P0062546</td>\n",
       "      <td>2200</td>\n",
       "      <td>...</td>\n",
       "      <td>NaN</td>\n",
       "      <td>UNHEALTHY UNTREATABLE NON-CONTAGIOUS</td>\n",
       "      <td>SCAN NO CHIP</td>\n",
       "      <td>OVER THE COUNTER</td>\n",
       "      <td>NaN</td>\n",
       "      <td>JUL.2016</td>\n",
       "      <td>FY2016</td>\n",
       "      <td>NaN</td>\n",
       "      <td>NaN</td>\n",
       "      <td>NaN</td>\n",
       "    </tr>\n",
       "    <tr>\n",
       "      <th>4</th>\n",
       "      <td>A0119934</td>\n",
       "      <td>CAT</td>\n",
       "      <td>RUSSIAN BLUE</td>\n",
       "      <td>LOST</td>\n",
       "      <td>LOST REPORT</td>\n",
       "      <td>NaN</td>\n",
       "      <td>NaN</td>\n",
       "      <td>1</td>\n",
       "      <td>P0038200</td>\n",
       "      <td>75214</td>\n",
       "      <td>...</td>\n",
       "      <td>NaN</td>\n",
       "      <td>HEALTHY</td>\n",
       "      <td>UNABLE TO SCAN</td>\n",
       "      <td>OVER THE COUNTER</td>\n",
       "      <td>NaN</td>\n",
       "      <td>JUL.2016</td>\n",
       "      <td>FY2016</td>\n",
       "      <td>NaN</td>\n",
       "      <td>NaN</td>\n",
       "      <td>NaN</td>\n",
       "    </tr>\n",
       "  </tbody>\n",
       "</table>\n",
       "<p>5 rows × 36 columns</p>\n",
       "</div>"
      ],
      "text/plain": [
       "  Animal Id Animal Type   Animal Breed Kennel Number Kennel Status  Tag Type  \\\n",
       "0  A0000000         NaN            NaN       FREEZER   UNAVAILABLE       NaN   \n",
       "1  A0001656         DOG  LABRADOR RETR        LAB 01           LAB       NaN   \n",
       "2  A0014681         DOG       PIT BULL       PAWS 24   UNAVAILABLE       NaN   \n",
       "3  A0117773         DOG       PIT BULL        LAB 01           LAB       NaN   \n",
       "4  A0119934         CAT   RUSSIAN BLUE          LOST   LOST REPORT       NaN   \n",
       "\n",
       "  Activity Number  Activity Sequence Source Id Census Tract  ...  \\\n",
       "0      A16-017406                  1  P0000000          701  ...   \n",
       "1             NaN                  1  P0003571        20500  ...   \n",
       "2             NaN                  1  P0721470        12302  ...   \n",
       "3             NaN                  1  P0062546         2200  ...   \n",
       "4             NaN                  1  P0038200        75214  ...   \n",
       "\n",
       "  Service Request Number                       Outcome Condition  \\\n",
       "0                    NaN    UNHEALTHY UNTREATABLE NON-CONTAGIOUS   \n",
       "1                    NaN  TREATABLE REHABILITABLE NON-CONTAGIOUS   \n",
       "2                  50020     TREATABLE MANAGEABLE NON-CONTAGIOUS   \n",
       "3                    NaN    UNHEALTHY UNTREATABLE NON-CONTAGIOUS   \n",
       "4                    NaN                                 HEALTHY   \n",
       "\n",
       "      Chip Status     Animal Origin      Additional Information     Month  \\\n",
       "0  UNABLE TO SCAN             FIELD                         NaN  JUN.2016   \n",
       "1       SCAN CHIP  OVER THE COUNTER                         NaN  JUL.2016   \n",
       "2    SCAN NO CHIP             FIELD  TAGGHOUSEBROKEN/FREE ADOPT  FEB.2016   \n",
       "3    SCAN NO CHIP  OVER THE COUNTER                         NaN  JUL.2016   \n",
       "4  UNABLE TO SCAN  OVER THE COUNTER                         NaN  JUL.2016   \n",
       "\n",
       "     Year Unnamed: 16 Outcome Subtype Unnamed: 27  \n",
       "0  FY2016         NaN             NaN         NaN  \n",
       "1  FY2016         NaN             NaN         NaN  \n",
       "2  FY2016         NaN             NaN         NaN  \n",
       "3  FY2016         NaN             NaN         NaN  \n",
       "4  FY2016         NaN             NaN         NaN  \n",
       "\n",
       "[5 rows x 36 columns]"
      ]
     },
     "execution_count": 14,
     "metadata": {},
     "output_type": "execute_result"
    }
   ],
   "source": [
    "dallas_shelter_df.head()"
   ]
  },
  {
   "cell_type": "code",
   "execution_count": 15,
   "metadata": {},
   "outputs": [
    {
     "data": {
      "text/plain": [
       "UNAVAILABLE                 85993\n",
       "IMPOUNDED                   51826\n",
       "LAB                         29991\n",
       "AVAILABLE                   17722\n",
       "LOST REPORT                  2226\n",
       "RELEASED FROM QUARANTINE     1511\n",
       "WILDLIFE                     1309\n",
       "FOUND REPORT                  833\n",
       "EU RISK                       631\n",
       "PRE-LAB                       394\n",
       "PENDING                       310\n",
       "LIVESTOCK                      29\n",
       "EVALUATION                     28\n",
       "NOTCH EAR                      15\n",
       "EXOTIC                          3\n",
       "Name: Kennel Status, dtype: int64"
      ]
     },
     "execution_count": 15,
     "metadata": {},
     "output_type": "execute_result"
    }
   ],
   "source": [
    "kennel_status = dallas_shelter_df[\"Kennel Status\"].value_counts()\n",
    "kennel_status"
   ]
  },
  {
   "cell_type": "code",
   "execution_count": 16,
   "metadata": {},
   "outputs": [],
   "source": [
    "API_petfinder_data = \"Resources/Animals.csv\"\n",
    "petfinder_df_pre = pd.read_csv(API_petfinder_data)"
   ]
  },
  {
   "cell_type": "code",
   "execution_count": 17,
   "metadata": {},
   "outputs": [
    {
     "data": {
      "text/html": [
       "<div>\n",
       "<style scoped>\n",
       "    .dataframe tbody tr th:only-of-type {\n",
       "        vertical-align: middle;\n",
       "    }\n",
       "\n",
       "    .dataframe tbody tr th {\n",
       "        vertical-align: top;\n",
       "    }\n",
       "\n",
       "    .dataframe thead th {\n",
       "        text-align: right;\n",
       "    }\n",
       "</style>\n",
       "<table border=\"1\" class=\"dataframe\">\n",
       "  <thead>\n",
       "    <tr style=\"text-align: right;\">\n",
       "      <th></th>\n",
       "      <th>Unnamed: 0</th>\n",
       "      <th>id</th>\n",
       "      <th>organization_id</th>\n",
       "      <th>url</th>\n",
       "      <th>type</th>\n",
       "      <th>species</th>\n",
       "      <th>age</th>\n",
       "      <th>gender</th>\n",
       "      <th>size</th>\n",
       "      <th>coat</th>\n",
       "      <th>...</th>\n",
       "      <th>contact.address.state</th>\n",
       "      <th>contact.address.postcode</th>\n",
       "      <th>contact.address.country</th>\n",
       "      <th>animal_id</th>\n",
       "      <th>animal_type</th>\n",
       "      <th>organization_id.1</th>\n",
       "      <th>primary_photo_cropped.small</th>\n",
       "      <th>primary_photo_cropped.medium</th>\n",
       "      <th>primary_photo_cropped.large</th>\n",
       "      <th>primary_photo_cropped.full</th>\n",
       "    </tr>\n",
       "  </thead>\n",
       "  <tbody>\n",
       "    <tr>\n",
       "      <th>0</th>\n",
       "      <td>0</td>\n",
       "      <td>51329854</td>\n",
       "      <td>CO502</td>\n",
       "      <td>https://www.petfinder.com/cat/bird-51329854/co...</td>\n",
       "      <td>Cat</td>\n",
       "      <td>Cat</td>\n",
       "      <td>Young</td>\n",
       "      <td>Male</td>\n",
       "      <td>Medium</td>\n",
       "      <td>NaN</td>\n",
       "      <td>...</td>\n",
       "      <td>CO</td>\n",
       "      <td>80304</td>\n",
       "      <td>US</td>\n",
       "      <td>51329854</td>\n",
       "      <td>cat</td>\n",
       "      <td>co502</td>\n",
       "      <td>NaN</td>\n",
       "      <td>NaN</td>\n",
       "      <td>NaN</td>\n",
       "      <td>NaN</td>\n",
       "    </tr>\n",
       "    <tr>\n",
       "      <th>1</th>\n",
       "      <td>1</td>\n",
       "      <td>51329850</td>\n",
       "      <td>IA172</td>\n",
       "      <td>https://www.petfinder.com/dog/negan-51329850/i...</td>\n",
       "      <td>Dog</td>\n",
       "      <td>Dog</td>\n",
       "      <td>Adult</td>\n",
       "      <td>Male</td>\n",
       "      <td>Large</td>\n",
       "      <td>NaN</td>\n",
       "      <td>...</td>\n",
       "      <td>IA</td>\n",
       "      <td>50265</td>\n",
       "      <td>US</td>\n",
       "      <td>51329850</td>\n",
       "      <td>dog</td>\n",
       "      <td>ia172</td>\n",
       "      <td>NaN</td>\n",
       "      <td>NaN</td>\n",
       "      <td>NaN</td>\n",
       "      <td>NaN</td>\n",
       "    </tr>\n",
       "    <tr>\n",
       "      <th>2</th>\n",
       "      <td>2</td>\n",
       "      <td>51329851</td>\n",
       "      <td>IA172</td>\n",
       "      <td>https://www.petfinder.com/dog/kong-51329851/ia...</td>\n",
       "      <td>Dog</td>\n",
       "      <td>Dog</td>\n",
       "      <td>Senior</td>\n",
       "      <td>Male</td>\n",
       "      <td>Medium</td>\n",
       "      <td>NaN</td>\n",
       "      <td>...</td>\n",
       "      <td>IA</td>\n",
       "      <td>50265</td>\n",
       "      <td>US</td>\n",
       "      <td>51329851</td>\n",
       "      <td>dog</td>\n",
       "      <td>ia172</td>\n",
       "      <td>NaN</td>\n",
       "      <td>NaN</td>\n",
       "      <td>NaN</td>\n",
       "      <td>NaN</td>\n",
       "    </tr>\n",
       "    <tr>\n",
       "      <th>3</th>\n",
       "      <td>3</td>\n",
       "      <td>51329852</td>\n",
       "      <td>IA172</td>\n",
       "      <td>https://www.petfinder.com/dog/ziko-51329852/ia...</td>\n",
       "      <td>Dog</td>\n",
       "      <td>Dog</td>\n",
       "      <td>Adult</td>\n",
       "      <td>Male</td>\n",
       "      <td>Large</td>\n",
       "      <td>NaN</td>\n",
       "      <td>...</td>\n",
       "      <td>IA</td>\n",
       "      <td>50265</td>\n",
       "      <td>US</td>\n",
       "      <td>51329852</td>\n",
       "      <td>dog</td>\n",
       "      <td>ia172</td>\n",
       "      <td>NaN</td>\n",
       "      <td>NaN</td>\n",
       "      <td>NaN</td>\n",
       "      <td>NaN</td>\n",
       "    </tr>\n",
       "    <tr>\n",
       "      <th>4</th>\n",
       "      <td>4</td>\n",
       "      <td>51329853</td>\n",
       "      <td>IA172</td>\n",
       "      <td>https://www.petfinder.com/dog/coco-51329853/ia...</td>\n",
       "      <td>Dog</td>\n",
       "      <td>Dog</td>\n",
       "      <td>Senior</td>\n",
       "      <td>Female</td>\n",
       "      <td>Small</td>\n",
       "      <td>NaN</td>\n",
       "      <td>...</td>\n",
       "      <td>IA</td>\n",
       "      <td>50265</td>\n",
       "      <td>US</td>\n",
       "      <td>51329853</td>\n",
       "      <td>dog</td>\n",
       "      <td>ia172</td>\n",
       "      <td>NaN</td>\n",
       "      <td>NaN</td>\n",
       "      <td>NaN</td>\n",
       "      <td>NaN</td>\n",
       "    </tr>\n",
       "  </tbody>\n",
       "</table>\n",
       "<p>5 rows × 51 columns</p>\n",
       "</div>"
      ],
      "text/plain": [
       "   Unnamed: 0        id organization_id  \\\n",
       "0           0  51329854           CO502   \n",
       "1           1  51329850           IA172   \n",
       "2           2  51329851           IA172   \n",
       "3           3  51329852           IA172   \n",
       "4           4  51329853           IA172   \n",
       "\n",
       "                                                 url type species     age  \\\n",
       "0  https://www.petfinder.com/cat/bird-51329854/co...  Cat     Cat   Young   \n",
       "1  https://www.petfinder.com/dog/negan-51329850/i...  Dog     Dog   Adult   \n",
       "2  https://www.petfinder.com/dog/kong-51329851/ia...  Dog     Dog  Senior   \n",
       "3  https://www.petfinder.com/dog/ziko-51329852/ia...  Dog     Dog   Adult   \n",
       "4  https://www.petfinder.com/dog/coco-51329853/ia...  Dog     Dog  Senior   \n",
       "\n",
       "   gender    size coat  ... contact.address.state contact.address.postcode  \\\n",
       "0    Male  Medium  NaN  ...                    CO                    80304   \n",
       "1    Male   Large  NaN  ...                    IA                    50265   \n",
       "2    Male  Medium  NaN  ...                    IA                    50265   \n",
       "3    Male   Large  NaN  ...                    IA                    50265   \n",
       "4  Female   Small  NaN  ...                    IA                    50265   \n",
       "\n",
       "  contact.address.country animal_id animal_type  organization_id.1  \\\n",
       "0                      US  51329854         cat              co502   \n",
       "1                      US  51329850         dog              ia172   \n",
       "2                      US  51329851         dog              ia172   \n",
       "3                      US  51329852         dog              ia172   \n",
       "4                      US  51329853         dog              ia172   \n",
       "\n",
       "  primary_photo_cropped.small primary_photo_cropped.medium  \\\n",
       "0                         NaN                          NaN   \n",
       "1                         NaN                          NaN   \n",
       "2                         NaN                          NaN   \n",
       "3                         NaN                          NaN   \n",
       "4                         NaN                          NaN   \n",
       "\n",
       "  primary_photo_cropped.large primary_photo_cropped.full  \n",
       "0                         NaN                        NaN  \n",
       "1                         NaN                        NaN  \n",
       "2                         NaN                        NaN  \n",
       "3                         NaN                        NaN  \n",
       "4                         NaN                        NaN  \n",
       "\n",
       "[5 rows x 51 columns]"
      ]
     },
     "execution_count": 17,
     "metadata": {},
     "output_type": "execute_result"
    }
   ],
   "source": [
    "petfinder_df_pre.head()"
   ]
  },
  {
   "cell_type": "code",
   "execution_count": 18,
   "metadata": {
    "scrolled": true
   },
   "outputs": [
    {
     "data": {
      "text/html": [
       "<div>\n",
       "<style scoped>\n",
       "    .dataframe tbody tr th:only-of-type {\n",
       "        vertical-align: middle;\n",
       "    }\n",
       "\n",
       "    .dataframe tbody tr th {\n",
       "        vertical-align: top;\n",
       "    }\n",
       "\n",
       "    .dataframe thead th {\n",
       "        text-align: right;\n",
       "    }\n",
       "</style>\n",
       "<table border=\"1\" class=\"dataframe\">\n",
       "  <thead>\n",
       "    <tr style=\"text-align: right;\">\n",
       "      <th></th>\n",
       "      <th>type</th>\n",
       "      <th>age</th>\n",
       "      <th>gender</th>\n",
       "      <th>size</th>\n",
       "      <th>status</th>\n",
       "    </tr>\n",
       "  </thead>\n",
       "  <tbody>\n",
       "    <tr>\n",
       "      <th>0</th>\n",
       "      <td>Cat</td>\n",
       "      <td>Young</td>\n",
       "      <td>Male</td>\n",
       "      <td>Medium</td>\n",
       "      <td>adoptable</td>\n",
       "    </tr>\n",
       "    <tr>\n",
       "      <th>1</th>\n",
       "      <td>Dog</td>\n",
       "      <td>Adult</td>\n",
       "      <td>Male</td>\n",
       "      <td>Large</td>\n",
       "      <td>adoptable</td>\n",
       "    </tr>\n",
       "    <tr>\n",
       "      <th>2</th>\n",
       "      <td>Dog</td>\n",
       "      <td>Senior</td>\n",
       "      <td>Male</td>\n",
       "      <td>Medium</td>\n",
       "      <td>adoptable</td>\n",
       "    </tr>\n",
       "    <tr>\n",
       "      <th>3</th>\n",
       "      <td>Dog</td>\n",
       "      <td>Adult</td>\n",
       "      <td>Male</td>\n",
       "      <td>Large</td>\n",
       "      <td>adoptable</td>\n",
       "    </tr>\n",
       "    <tr>\n",
       "      <th>4</th>\n",
       "      <td>Dog</td>\n",
       "      <td>Senior</td>\n",
       "      <td>Female</td>\n",
       "      <td>Small</td>\n",
       "      <td>adoptable</td>\n",
       "    </tr>\n",
       "    <tr>\n",
       "      <th>5</th>\n",
       "      <td>Dog</td>\n",
       "      <td>Baby</td>\n",
       "      <td>Male</td>\n",
       "      <td>Small</td>\n",
       "      <td>adoptable</td>\n",
       "    </tr>\n",
       "    <tr>\n",
       "      <th>6</th>\n",
       "      <td>Dog</td>\n",
       "      <td>Baby</td>\n",
       "      <td>Female</td>\n",
       "      <td>Small</td>\n",
       "      <td>adoptable</td>\n",
       "    </tr>\n",
       "    <tr>\n",
       "      <th>7</th>\n",
       "      <td>Dog</td>\n",
       "      <td>Adult</td>\n",
       "      <td>Male</td>\n",
       "      <td>Medium</td>\n",
       "      <td>adoptable</td>\n",
       "    </tr>\n",
       "    <tr>\n",
       "      <th>8</th>\n",
       "      <td>Dog</td>\n",
       "      <td>Adult</td>\n",
       "      <td>Female</td>\n",
       "      <td>Medium</td>\n",
       "      <td>adoptable</td>\n",
       "    </tr>\n",
       "    <tr>\n",
       "      <th>9</th>\n",
       "      <td>Cat</td>\n",
       "      <td>Adult</td>\n",
       "      <td>Female</td>\n",
       "      <td>Medium</td>\n",
       "      <td>adoptable</td>\n",
       "    </tr>\n",
       "    <tr>\n",
       "      <th>10</th>\n",
       "      <td>Dog</td>\n",
       "      <td>Young</td>\n",
       "      <td>Male</td>\n",
       "      <td>Medium</td>\n",
       "      <td>adoptable</td>\n",
       "    </tr>\n",
       "  </tbody>\n",
       "</table>\n",
       "</div>"
      ],
      "text/plain": [
       "   type     age  gender    size     status\n",
       "0   Cat   Young    Male  Medium  adoptable\n",
       "1   Dog   Adult    Male   Large  adoptable\n",
       "2   Dog  Senior    Male  Medium  adoptable\n",
       "3   Dog   Adult    Male   Large  adoptable\n",
       "4   Dog  Senior  Female   Small  adoptable\n",
       "5   Dog    Baby    Male   Small  adoptable\n",
       "6   Dog    Baby  Female   Small  adoptable\n",
       "7   Dog   Adult    Male  Medium  adoptable\n",
       "8   Dog   Adult  Female  Medium  adoptable\n",
       "9   Cat   Adult  Female  Medium  adoptable\n",
       "10  Dog   Young    Male  Medium  adoptable"
      ]
     },
     "execution_count": 18,
     "metadata": {},
     "output_type": "execute_result"
    }
   ],
   "source": [
    "petfinder_df = petfinder_df_pre.drop(columns=['Unnamed: 0', 'id', 'organization_id', 'url', 'species', 'coat', 'tags', 'name', 'description', 'organization_animal_id', 'photos', 'contact.address.state', 'primary_photo_cropped', 'videos', 'published_at', 'distance', 'breeds.primary', 'contact.address.city', 'contact.address.postcode', 'contact.address.country', 'breeds.secondary', 'breeds.mixed', 'breeds.unknown', 'colors.primary', 'colors.secondary', 'colors.tertiary', 'attributes.spayed_neutered', 'contact.phone', 'attributes.house_trained', 'attributes.declawed', 'attributes.special_needs', 'attributes.shots_current', 'environment.children', 'environment.dogs', 'environment.cats', 'contact.email', 'contact.address.address1', 'contact.address.address2', 'animal_id', 'animal_type', 'organization_id.1', 'primary_photo_cropped.small', 'primary_photo_cropped.medium', 'primary_photo_cropped.large', 'primary_photo_cropped.full', 'status_changed_at'])\n",
    "petfinder_df.head(11)\n"
   ]
  },
  {
   "cell_type": "code",
   "execution_count": 19,
   "metadata": {},
   "outputs": [
    {
     "data": {
      "text/plain": [
       "Dog                     5811\n",
       "Cat                     3866\n",
       "Small & Furry            140\n",
       "Rabbit                   119\n",
       "Bird                      47\n",
       "Barnyard                   8\n",
       "Scales, Fins & Other       7\n",
       "Horse                      2\n",
       "Name: type, dtype: int64"
      ]
     },
     "execution_count": 19,
     "metadata": {},
     "output_type": "execute_result"
    }
   ],
   "source": [
    "type_counts = petfinder_df[\"type\"].value_counts()\n",
    "type_counts"
   ]
  },
  {
   "cell_type": "code",
   "execution_count": 21,
   "metadata": {},
   "outputs": [
    {
     "data": {
      "image/png": "[encoded data removed]",
      "text/plain": [
       "<Figure size 432x288 with 1 Axes>"
      ]
     },
     "metadata": {
      "needs_background": "light"
     },
     "output_type": "display_data"
    }
   ],
   "source": [
    "type_chart = type_counts.plot(kind=\"bar\")\n",
    "\n",
    "# Set x and Y label\n",
    "type_chart.set_xlabel(\"\")\n",
    "type_chart.set_ylabel(\"Availability based off Type\")\n",
    "\n",
    "\n",
    "plt.tight_layout()\n",
    "plt.savefig('/users/ChrisVelasquez/Desktop/type_chart')\n",
    "plt.show()"
   ]
  },
  {
   "cell_type": "code",
   "execution_count": 22,
   "metadata": {},
   "outputs": [
    {
     "data": {
      "text/plain": [
       "Male       5131\n",
       "Female     4854\n",
       "Unknown      15\n",
       "Name: gender, dtype: int64"
      ]
     },
     "execution_count": 22,
     "metadata": {},
     "output_type": "execute_result"
    }
   ],
   "source": [
    "gender_counts = petfinder_df[\"gender\"].value_counts()\n",
    "gender_counts"
   ]
  },
  {
   "cell_type": "code",
   "execution_count": 92,
   "metadata": {},
   "outputs": [
    {
     "data": {
      "image/png": "[encoded data removed]",
      "text/plain": [
       "<Figure size 432x288 with 1 Axes>"
      ]
     },
     "metadata": {
      "needs_background": "light"
     },
     "output_type": "display_data"
    },
    {
     "data": {
      "text/plain": [
       "<Figure size 432x288 with 0 Axes>"
      ]
     },
     "metadata": {},
     "output_type": "display_data"
    }
   ],
   "source": [
    "gender_chart = gender_counts.plot(kind=\"bar\")\n",
    "\n",
    "# Set X and Y labels\n",
    "gender_chart.set_xlabel(\"Gender\")\n",
    "gender_chart.set_ylabel(\"Availability based off Gender\")\n",
    "\n",
    "plt.show()\n",
    "plt.tight_layout()"
   ]
  },
  {
   "cell_type": "code",
   "execution_count": 78,
   "metadata": {},
   "outputs": [
    {
     "data": {
      "text/plain": [
       "Adult     4084\n",
       "Young     2845\n",
       "Baby      2597\n",
       "Senior     474\n",
       "Name: age, dtype: int64"
      ]
     },
     "execution_count": 78,
     "metadata": {},
     "output_type": "execute_result"
    }
   ],
   "source": [
    "age_count = petfinder_df[\"age\"].value_counts()\n",
    "age_count"
   ]
  },
  {
   "cell_type": "code",
   "execution_count": 87,
   "metadata": {
    "scrolled": true
   },
   "outputs": [
    {
     "data": {
      "image/png": "[encoded data removed]",
      "text/plain": [
       "<Figure size 432x288 with 1 Axes>"
      ]
     },
     "metadata": {
      "needs_background": "light"
     },
     "output_type": "display_data"
    },
    {
     "data": {
      "text/plain": [
       "<Figure size 432x288 with 0 Axes>"
      ]
     },
     "metadata": {},
     "output_type": "display_data"
    }
   ],
   "source": [
    "# Create bar chart to represent Ages\n",
    "age_chart = age_count.plot(kind='bar')\n",
    "\n",
    "# Set X and Y Labels\n",
    "age_chart.set_xlabel(\"Age of Pets\")\n",
    "age_chart.set_ylabel(\"Available Pets\")\n",
    "\n",
    "plt.show()\n",
    "plt.tight_layout()"
   ]
  },
  {
   "cell_type": "code",
   "execution_count": 77,
   "metadata": {},
   "outputs": [
    {
     "data": {
      "text/plain": [
       "Medium         5212\n",
       "Small          2709\n",
       "Large          1969\n",
       "Extra Large     110\n",
       "Name: size, dtype: int64"
      ]
     },
     "execution_count": 77,
     "metadata": {},
     "output_type": "execute_result"
    }
   ],
   "source": [
    "size_count = petfinder_df[\"size\"].value_counts()\n",
    "size_count"
   ]
  },
  {
   "cell_type": "code",
   "execution_count": 88,
   "metadata": {},
   "outputs": [
    {
     "data": {
      "text/plain": [
       "Text(0, 0.5, 'Available Pets')"
      ]
     },
     "execution_count": 88,
     "metadata": {},
     "output_type": "execute_result"
    },
    {
     "data": {
      "image/png": "[encoded data removed]",
      "text/plain": [
       "<Figure size 432x288 with 1 Axes>"
      ]
     },
     "metadata": {
      "needs_background": "light"
     },
     "output_type": "display_data"
    }
   ],
   "source": [
    "# Create chart for size count\n",
    "size_chart = size_count.plot(kind=\"bar\")\n",
    "\n",
    "# Set X and Y label\n",
    "size_chart.set_xlabel(\"Size of Pets\")\n",
    "size_chart.set_ylabel(\"Available Pets\")\n",
    "save"
   ]
  },
  {
   "cell_type": "code",
   "execution_count": 76,
   "metadata": {},
   "outputs": [
    {
     "data": {
      "text/plain": [
       "adoptable    10000\n",
       "Name: status, dtype: int64"
      ]
     },
     "execution_count": 76,
     "metadata": {},
     "output_type": "execute_result"
    }
   ],
   "source": [
    "status_count = petfinder_df[\"status\"].value_counts()\n",
    "status_count"
   ]
  }
 ],
 "metadata": {
  "kernelspec": {
   "display_name": "Python 3",
   "language": "python",
   "name": "python3"
  },
  "language_info": {
   "codemirror_mode": {
    "name": "ipython",
    "version": 3
   },
   "file_extension": ".py",
   "mimetype": "text/x-python",
   "name": "python",
   "nbconvert_exporter": "python",
   "pygments_lexer": "ipython3",
   "version": "3.6.10"
  }
 },
 "nbformat": 4,
 "nbformat_minor": 4
}
