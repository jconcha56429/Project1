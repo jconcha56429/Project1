{
 "cells": [
  {
   "cell_type": "code",
   "execution_count": 1,
   "metadata": {},
   "outputs": [
    {
     "name": "stdout",
     "output_type": "stream",
     "text": [
      "JORBeyMRPcdRQ6NN5KtgDvJQe3Q99QV0GVD1BqAf\n"
     ]
    }
   ],
   "source": [
    "from config import API_key\n",
    "from config import secret \n"
   ]
  },
  {
   "cell_type": "code",
   "execution_count": 4,
   "metadata": {},
   "outputs": [
    {
     "ename": "SyntaxError",
     "evalue": "invalid syntax (<ipython-input-4-505499f2ca97>, line 1)",
     "output_type": "error",
     "traceback": [
      "\u001b[1;36m  File \u001b[1;32m\"<ipython-input-4-505499f2ca97>\"\u001b[1;36m, line \u001b[1;32m1\u001b[0m\n\u001b[1;33m    curl -d \"grant_type=client_credentials&client_id={fOJ8wwN7nbVAH3mWk87xjR9KzmE0qGwJwULmXCpUgegqzYaND7}&client_secret={JORBeyMRPcdRQ6NN5KtgDvJQe3Q99QV0GVD1BqAf}\" https://api.petfinder.com/v2/oauth2/token\u001b[0m\n\u001b[1;37m                                                                                                                                                                  ^\u001b[0m\n\u001b[1;31mSyntaxError\u001b[0m\u001b[1;31m:\u001b[0m invalid syntax\n"
     ]
    }
   ],
   "source": [
    "curl -d \"grant_type=client_credentials&client_id={fOJ8wwN7nbVAH3mWk87xjR9KzmE0qGwJwULmXCpUgegqzYaND7}&client_secret={JORBeyMRPcdRQ6NN5KtgDvJQe3Q99QV0GVD1BqAf}\" https://api.petfinder.com/v2/oauth2/token"
   ]
  },
  {
   "cell_type": "code",
   "execution_count": null,
   "metadata": {},
   "outputs": [],
   "source": []
  }
 ],
 "metadata": {
  "kernelspec": {
   "display_name": "Python [conda env:PythonData]",
   "language": "python",
   "name": "conda-env-PythonData-py"
  },
  "language_info": {
   "codemirror_mode": {
    "name": "ipython",
    "version": 3
   },
   "file_extension": ".py",
   "mimetype": "text/x-python",
   "name": "python",
   "nbconvert_exporter": "python",
   "pygments_lexer": "ipython3",
   "version": "3.6.10"
  }
 },
 "nbformat": 4,
 "nbformat_minor": 4
}
